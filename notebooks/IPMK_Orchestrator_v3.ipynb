{
 "cells": [
  {
   "cell_type": "markdown",
   "id": "e225c94e",
   "metadata": {},
   "source": [
    "# IPMK Orchestrator v3 (VAST)\n",
    "\n",
    "Интеллектуальный парсинг методологического знания (IPMK).\n",
    "\n",
    "Этапы: Sync (GCS→локально) → Render (300 dpi) → GroundedDINO+SAM2 → Analyze (LLM) → Ingest (индекс) → Review/Eval.\n",
    "\n",
    "Запускать в удалённом окне VSCode (SSH: vast-4090). Перед запуском: `. ./.env` (или используйте scripts/vast_run.sh)."
   ]
  },
  {
   "cell_type": "code",
   "execution_count": 1,
   "id": "ee2887cf",
   "metadata": {
    "execution": {
     "iopub.execute_input": "2025-09-18T20:28:04.725864Z",
     "iopub.status.busy": "2025-09-18T20:28:04.725281Z",
     "iopub.status.idle": "2025-09-18T20:28:04.749510Z",
     "shell.execute_reply": "2025-09-18T20:28:04.748944Z"
    },
    "tags": [
     "parameters"
    ]
   },
   "outputs": [
    {
     "name": "stdout",
     "output_type": "stream",
     "text": [
      "Current working directory: /root/AiPIK\n",
      "OPENAI set? True\n",
      "OUT_PAGES = out/page_images/PIK - Expert Guide - Platform IT Architecture - Playbook - v11\n",
      "OUT_DET   = out/visual/grounded_regions\n",
      "INDEX_PATH= out/openai_embeddings.ndjson\n"
     ]
    }
   ],
   "source": [
    "# Опциональная подгрузка .env (без внешних пакетов)\n",
    "import os, shlex, pathlib\n",
    "\n",
    "# Меняем рабочую директорию на корень проекта, если запускаем из папки notebooks\n",
    "if os.path.basename(os.getcwd()) == 'notebooks':\n",
    "    os.chdir('..')\n",
    "print(f'Current working directory: {os.getcwd()}')\n",
    "\n",
    "def load_env_file(path='.env'):\n",
    "    p = pathlib.Path(path)\n",
    "    if not p.exists():\n",
    "        return\n",
    "    for line in p.read_text(encoding='utf-8').splitlines():\n",
    "        line = line.strip()\n",
    "        if not line or line.startswith('#') or '=' not in line:\n",
    "            continue\n",
    "        k, v = line.split('=', 1)\n",
    "        if v and v[0] == v[-1]:\n",
    "            if v[0] in (\"'\", '\"'):\n",
    "                v = v[1:-1]\n",
    "        os.environ.setdefault(k, v)\n",
    "\n",
    "# Раскомментируйте для явной загрузки .env (обычно .env уже подгружается в окружение)\n",
    "# load_env_file()\n",
    "\n",
    "MODEL_DIR = os.getenv('MODEL_DIR', '/root/models')\n",
    "DATA_DIR  = os.getenv('DATA_DIR',  '/root/data')\n",
    "# Источники\n",
    "PLAYBOOKS_SRC = os.getenv('PLAYBOOKS_SRC', 'gs://pik_source_bucket/playbooks')\n",
    "FRAMES_SRC    = os.getenv('FRAMES_SRC',    'gs://pik_source_bucket/frames')\n",
    "PLAYBOOKS_DST = os.getenv('PLAYBOOKS_DST', '/root/data/playbooks')\n",
    "FRAMES_DST    = os.getenv('FRAMES_DST',    '/root/data/frames')\n",
    "\n",
    "# Входы для текущего прогонки/интеграции (если нужен один файл)\n",
    "PDF_PATH  = os.getenv('PDF_PATH',  '/root/data/playbook.pdf')\n",
    "JSON_PATH = os.getenv('JSON_PATH', '/root/data/playbook.json')\n",
    "\n",
    "# Артефакты\n",
    "OUT_PAGES = os.getenv('OUT_PAGES', 'out/page_images/PIK - Expert Guide - Platform IT Architecture - Playbook - v11')\n",
    "OUT_DET   = os.getenv('OUT_DET',   'out/visual/grounded_regions')\n",
    "INDEX_PATH = os.getenv('INDEX_PATH', 'out/openai_embeddings.ndjson')\n",
    "\n",
    "CHAT_MODEL = os.getenv('CHAT_MODEL', 'gpt-4o')\n",
    "EMB_MODEL  = os.getenv('EMB_MODEL',  'text-embedding-3-large')\n",
    "OPENAI_SET = bool(os.getenv('OPENAI_API_KEY'))\n",
    "\n",
    "# Тогглы этапов\n",
    "DO_SYNC   = os.getenv('IPMK_DO_SYNC',   '1') == '1'\n",
    "DO_RENDER = os.getenv('IPMK_DO_RENDER', '1') == '1'\n",
    "DO_DETECT = os.getenv('IPMK_DO_DETECT', '1') == '1'\n",
    "DO_ANALYZE= os.getenv('IPMK_DO_ANALYZE','1') == '1'\n",
    "DO_INGEST = os.getenv('IPMK_DO_INGEST', '1') == '1'\n",
    "DO_REVIEW = os.getenv('IPMK_DO_REVIEW', '1') == '1'\n",
    "DO_EVAL   = os.getenv('IPMK_DO_EVAL',   '1') == '1'\n",
    "\n",
    "print('OPENAI set?', OPENAI_SET)\n",
    "print('OUT_PAGES =', OUT_PAGES)\n",
    "print('OUT_DET   =', OUT_DET)\n",
    "print('INDEX_PATH=', INDEX_PATH)\n",
    "# Ensure a writable TMPDIR for OCR (pytesseract)\n",
    "from pathlib import Path\n",
    "Path('/tmp/tess_tmp').mkdir(parents=True, exist_ok=True)\n",
    "os.environ.setdefault('TMPDIR','/tmp/tess_tmp')\n"
   ]
  },
  {
   "cell_type": "code",
   "execution_count": 2,
   "id": "1a6cea1f",
   "metadata": {
    "execution": {
     "iopub.execute_input": "2025-09-18T20:28:04.751201Z",
     "iopub.status.busy": "2025-09-18T20:28:04.751050Z",
     "iopub.status.idle": "2025-09-18T20:28:04.754511Z",
     "shell.execute_reply": "2025-09-18T20:28:04.754135Z"
    }
   },
   "outputs": [],
   "source": [
    "# Вспомогательные функции запуска\n",
    "import subprocess, shlex\n",
    "from pathlib import Path\n",
    "\n",
    "def run(cmd: list[str]):\n",
    "    print('[run]', ' '.join(shlex.quote(x) for x in cmd))\n",
    "    subprocess.run(cmd, check=True)\n",
    "\n",
    "Path('out').mkdir(exist_ok=True)\n",
    "Path(OUT_PAGES).parent.mkdir(parents=True, exist_ok=True)\n",
    "Path(OUT_DET).mkdir(parents=True, exist_ok=True)\n"
   ]
  },
  {
   "cell_type": "markdown",
   "id": "ec89c2e6",
   "metadata": {},
   "source": [
    "## 1) Sync источников из GCS (playbooks, frames)"
   ]
  },
  {
   "cell_type": "code",
   "execution_count": 3,
   "id": "30b04952",
   "metadata": {
    "execution": {
     "iopub.execute_input": "2025-09-18T20:28:04.756073Z",
     "iopub.status.busy": "2025-09-18T20:28:04.755941Z",
     "iopub.status.idle": "2025-09-18T20:28:07.830101Z",
     "shell.execute_reply": "2025-09-18T20:28:07.829808Z"
    }
   },
   "outputs": [
    {
     "name": "stdout",
     "output_type": "stream",
     "text": [
      "[run] python scripts/batch_sync_gcs.py --playbooks-src gs://pik_source_bucket/playbooks --frames-src gs://pik_source_bucket/frames --playbooks-dst /root/data/playbooks --frames-dst /root/data/frames\n"
     ]
    },
    {
     "name": "stderr",
     "output_type": "stream",
     "text": [
      "Building synchronization state...\n"
     ]
    },
    {
     "name": "stderr",
     "output_type": "stream",
     "text": [
      "Starting synchronization...\n"
     ]
    },
    {
     "name": "stderr",
     "output_type": "stream",
     "text": [
      "Building synchronization state...\n"
     ]
    },
    {
     "name": "stdout",
     "output_type": "stream",
     "text": [
      "Running: gsutil -m rsync -r gs://pik_source_bucket/playbooks /root/data/playbooks\n",
      "Running: gsutil -m rsync -r gs://pik_source_bucket/frames /root/data/frames\n"
     ]
    },
    {
     "name": "stderr",
     "output_type": "stream",
     "text": [
      "Starting synchronization...\n"
     ]
    }
   ],
   "source": [
    "if DO_SYNC:\n",
    "    try:\n",
    "        run(['python', 'scripts/batch_sync_gcs.py', '--playbooks-src', PLAYBOOKS_SRC, '--frames-src', FRAMES_SRC, '--playbooks-dst', PLAYBOOKS_DST, '--frames-dst', FRAMES_DST])\n",
    "    except subprocess.CalledProcessError:\n",
    "        print('gsutil/gcloud not installed or sync failed; skip sync')\n",
    "else:\n",
    "    print('Skip sync (DO_SYNC=0)')\n"
   ]
  },
  {
   "cell_type": "markdown",
   "id": "e502d7c3",
   "metadata": {},
   "source": [
    "## 2) Render всех PDF в 300 dpi"
   ]
  },
  {
   "cell_type": "code",
   "execution_count": 4,
   "id": "d39bd4c6",
   "metadata": {
    "execution": {
     "iopub.execute_input": "2025-09-18T20:28:07.831097Z",
     "iopub.status.busy": "2025-09-18T20:28:07.831004Z",
     "iopub.status.idle": "2025-09-18T20:31:50.713857Z",
     "shell.execute_reply": "2025-09-18T20:31:50.713479Z"
    }
   },
   "outputs": [
    {
     "name": "stdout",
     "output_type": "stream",
     "text": [
      "[run] python scripts/batch_render.py --src /root/data/playbooks /root/data/frames --out-root out/page_images --dpi 300\n"
     ]
    },
    {
     "name": "stdout",
     "output_type": "stream",
     "text": [
      "Rendered 2023-06 - fastbreakOne - Expert Guide - Ecosystem Strategy  - English.pdf page 1 -> out/page_images/2023-06 - fastbreakOne - Expert Guide - Ecosystem Strategy  - English/page-1.png\n",
      "Rendered 2023-06 - fastbreakOne - Expert Guide - Ecosystem Strategy  - English.pdf page 2 -> out/page_images/2023-06 - fastbreakOne - Expert Guide - Ecosystem Strategy  - English/page-2.png\n",
      "Rendered 2023-06 - fastbreakOne - Expert Guide - Ecosystem Strategy  - English.pdf page 3 -> out/page_images/2023-06 - fastbreakOne - Expert Guide - Ecosystem Strategy  - English/page-3.png\n",
      "Rendered 2023-06 - fastbreakOne - Expert Guide - Ecosystem Strategy  - English.pdf page 4 -> out/page_images/2023-06 - fastbreakOne - Expert Guide - Ecosystem Strategy  - English/page-4.png\n",
      "Rendered 2023-06 - fastbreakOne - Expert Guide - Ecosystem Strategy  - English.pdf page 5 -> out/page_images/2023-06 - fastbreakOne - Expert Guide - Ecosystem Strategy  - English/page-5.png\n",
      "Rendered 2023-06 - fastbreakOne - Expert Guide - Ecosystem Strategy  - English.pdf page 6 -> out/page_images/2023-06 - fastbreakOne - Expert Guide - Ecosystem Strategy  - English/page-6.png\n",
      "Rendered 2023-06 - fastbreakOne - Expert Guide - Ecosystem Strategy  - English.pdf page 7 -> out/page_images/2023-06 - fastbreakOne - Expert Guide - Ecosystem Strategy  - English/page-7.png\n",
      "Rendered 2023-06 - fastbreakOne - Expert Guide - Ecosystem Strategy  - English.pdf page 8 -> out/page_images/2023-06 - fastbreakOne - Expert Guide - Ecosystem Strategy  - English/page-8.png\n",
      "Rendered 2023-06 - fastbreakOne - Expert Guide - Ecosystem Strategy  - English.pdf page 9 -> out/page_images/2023-06 - fastbreakOne - Expert Guide - Ecosystem Strategy  - English/page-9.png\n",
      "Rendered 2023-06 - fastbreakOne - Expert Guide - Ecosystem Strategy  - English.pdf page 10 -> out/page_images/2023-06 - fastbreakOne - Expert Guide - Ecosystem Strategy  - English/page-10.png\n",
      "Rendered 2023-06 - fastbreakOne - Expert Guide - Ecosystem Strategy  - English.pdf page 11 -> out/page_images/2023-06 - fastbreakOne - Expert Guide - Ecosystem Strategy  - English/page-11.png\n",
      "Rendered 2023-06 - fastbreakOne - Expert Guide - Ecosystem Strategy  - English.pdf page 12 -> out/page_images/2023-06 - fastbreakOne - Expert Guide - Ecosystem Strategy  - English/page-12.png\n",
      "Rendered 2023-06 - fastbreakOne - Expert Guide - Ecosystem Strategy  - English.pdf page 13 -> out/page_images/2023-06 - fastbreakOne - Expert Guide - Ecosystem Strategy  - English/page-13.png\n",
      "Rendered 2023-06 - fastbreakOne - Expert Guide - Ecosystem Strategy  - English.pdf page 14 -> out/page_images/2023-06 - fastbreakOne - Expert Guide - Ecosystem Strategy  - English/page-14.png\n",
      "Rendered 2023-06 - fastbreakOne - Expert Guide - Ecosystem Strategy  - English.pdf page 15 -> out/page_images/2023-06 - fastbreakOne - Expert Guide - Ecosystem Strategy  - English/page-15.png\n",
      "Rendered 2023-06 - fastbreakOne - Expert Guide - Ecosystem Strategy  - English.pdf page 16 -> out/page_images/2023-06 - fastbreakOne - Expert Guide - Ecosystem Strategy  - English/page-16.png\n",
      "Rendered 2023-06 - fastbreakOne - Expert Guide - Ecosystem Strategy  - English.pdf page 17 -> out/page_images/2023-06 - fastbreakOne - Expert Guide - Ecosystem Strategy  - English/page-17.png\n",
      "Rendered 2023-06 - fastbreakOne - Expert Guide - Ecosystem Strategy  - English.pdf page 18 -> out/page_images/2023-06 - fastbreakOne - Expert Guide - Ecosystem Strategy  - English/page-18.png\n",
      "Rendered 2023-06 - fastbreakOne - Expert Guide - Ecosystem Strategy  - English.pdf page 19 -> out/page_images/2023-06 - fastbreakOne - Expert Guide - Ecosystem Strategy  - English/page-19.png\n",
      "Rendered 2023-06 - fastbreakOne - Expert Guide - Ecosystem Strategy  - English.pdf page 20 -> out/page_images/2023-06 - fastbreakOne - Expert Guide - Ecosystem Strategy  - English/page-20.png\n",
      "Rendered 2023-06 - fastbreakOne - Expert Guide - Ecosystem Strategy  - English.pdf page 21 -> out/page_images/2023-06 - fastbreakOne - Expert Guide - Ecosystem Strategy  - English/page-21.png\n",
      "Rendered 2023-06 - fastbreakOne - Expert Guide - Ecosystem Strategy  - English.pdf page 22 -> out/page_images/2023-06 - fastbreakOne - Expert Guide - Ecosystem Strategy  - English/page-22.png\n",
      "Rendered 2023-06 - fastbreakOne - Expert Guide - Ecosystem Strategy  - English.pdf page 23 -> out/page_images/2023-06 - fastbreakOne - Expert Guide - Ecosystem Strategy  - English/page-23.png\n",
      "Rendered 2023-06 - fastbreakOne - Expert Guide - Ecosystem Strategy  - English.pdf page 24 -> out/page_images/2023-06 - fastbreakOne - Expert Guide - Ecosystem Strategy  - English/page-24.png\n",
      "Rendered 2023-06 - fastbreakOne - Expert Guide - Ecosystem Strategy  - English.pdf page 25 -> out/page_images/2023-06 - fastbreakOne - Expert Guide - Ecosystem Strategy  - English/page-25.png\n",
      "Rendered 2023-06 - fastbreakOne - Expert Guide - Ecosystem Strategy  - English.pdf page 26 -> out/page_images/2023-06 - fastbreakOne - Expert Guide - Ecosystem Strategy  - English/page-26.png\n",
      "Rendered 2023-06 - fastbreakOne - Expert Guide - Ecosystem Strategy  - English.pdf page 27 -> out/page_images/2023-06 - fastbreakOne - Expert Guide - Ecosystem Strategy  - English/page-27.png\n",
      "Rendered 2023-06 - fastbreakOne - Expert Guide - Ecosystem Strategy  - English.pdf page 28 -> out/page_images/2023-06 - fastbreakOne - Expert Guide - Ecosystem Strategy  - English/page-28.png\n",
      "Rendered 2023-06 - fastbreakOne - Expert Guide - Ecosystem Strategy  - English.pdf page 29 -> out/page_images/2023-06 - fastbreakOne - Expert Guide - Ecosystem Strategy  - English/page-29.png\n",
      "Rendered 2023-06 - fastbreakOne - Expert Guide - Ecosystem Strategy  - English.pdf page 30 -> out/page_images/2023-06 - fastbreakOne - Expert Guide - Ecosystem Strategy  - English/page-30.png\n",
      "Rendered 2023-06 - fastbreakOne - Expert Guide - Ecosystem Strategy  - English.pdf page 31 -> out/page_images/2023-06 - fastbreakOne - Expert Guide - Ecosystem Strategy  - English/page-31.png\n",
      "Rendered 2023-06 - fastbreakOne - Expert Guide - Ecosystem Strategy  - English.pdf page 32 -> out/page_images/2023-06 - fastbreakOne - Expert Guide - Ecosystem Strategy  - English/page-32.png\n",
      "Rendered 2023-06 - fastbreakOne - Expert Guide - Ecosystem Strategy  - English.pdf page 33 -> out/page_images/2023-06 - fastbreakOne - Expert Guide - Ecosystem Strategy  - English/page-33.png\n",
      "Rendered 2023-06 - fastbreakOne - Expert Guide - Ecosystem Strategy  - English.pdf page 34 -> out/page_images/2023-06 - fastbreakOne - Expert Guide - Ecosystem Strategy  - English/page-34.png\n",
      "Rendered 2023-06 - fastbreakOne - Expert Guide - Ecosystem Strategy  - English.pdf page 35 -> out/page_images/2023-06 - fastbreakOne - Expert Guide - Ecosystem Strategy  - English/page-35.png\n",
      "Rendered 2023-06 - fastbreakOne - Expert Guide - Ecosystem Strategy  - English.pdf page 36 -> out/page_images/2023-06 - fastbreakOne - Expert Guide - Ecosystem Strategy  - English/page-36.png\n",
      "Rendered 2023-06 - fastbreakOne - Expert Guide - Ecosystem Strategy  - English.pdf page 37 -> out/page_images/2023-06 - fastbreakOne - Expert Guide - Ecosystem Strategy  - English/page-37.png\n",
      "Rendered 2023-06 - fastbreakOne - Expert Guide - Ecosystem Strategy  - English.pdf page 38 -> out/page_images/2023-06 - fastbreakOne - Expert Guide - Ecosystem Strategy  - English/page-38.png\n",
      "Rendered 2023-06 - fastbreakOne - Expert Guide - Ecosystem Strategy  - English.pdf page 39 -> out/page_images/2023-06 - fastbreakOne - Expert Guide - Ecosystem Strategy  - English/page-39.png\n",
      "Rendered 2023-06 - fastbreakOne - Expert Guide - Ecosystem Strategy  - English.pdf page 40 -> out/page_images/2023-06 - fastbreakOne - Expert Guide - Ecosystem Strategy  - English/page-40.png\n",
      "Rendered 2023-06 - fastbreakOne - Expert Guide - Ecosystem Strategy  - English.pdf page 41 -> out/page_images/2023-06 - fastbreakOne - Expert Guide - Ecosystem Strategy  - English/page-41.png\n",
      "Rendered 2023-06 - fastbreakOne - Expert Guide - Ecosystem Strategy  - English.pdf page 42 -> out/page_images/2023-06 - fastbreakOne - Expert Guide - Ecosystem Strategy  - English/page-42.png\n"
     ]
    },
    {
     "name": "stdout",
     "output_type": "stream",
     "text": [
      "Rendered 2023-06 - fastbreakOne - Expert Guide - Ecosystem Strategy  - English.pdf page 43 -> out/page_images/2023-06 - fastbreakOne - Expert Guide - Ecosystem Strategy  - English/page-43.png\n",
      "Rendered 2023-06 - fastbreakOne - Expert Guide - Ecosystem Strategy  - English.pdf page 44 -> out/page_images/2023-06 - fastbreakOne - Expert Guide - Ecosystem Strategy  - English/page-44.png\n",
      "Rendered 2023-06 - fastbreakOne - Expert Guide - Ecosystem Strategy  - English.pdf page 45 -> out/page_images/2023-06 - fastbreakOne - Expert Guide - Ecosystem Strategy  - English/page-45.png\n",
      "Rendered 2023-06 - fastbreakOne - Expert Guide - Ecosystem Strategy  - English.pdf page 46 -> out/page_images/2023-06 - fastbreakOne - Expert Guide - Ecosystem Strategy  - English/page-46.png\n",
      "Rendered 2023-06 - fastbreakOne - Expert Guide - Ecosystem Strategy  - English.pdf page 47 -> out/page_images/2023-06 - fastbreakOne - Expert Guide - Ecosystem Strategy  - English/page-47.png\n",
      "Rendered 2023-06 - fastbreakOne - Expert Guide - Ecosystem Strategy  - English.pdf page 48 -> out/page_images/2023-06 - fastbreakOne - Expert Guide - Ecosystem Strategy  - English/page-48.png\n",
      "Rendered 2023-06 - fastbreakOne - Expert Guide - Ecosystem Strategy  - English.pdf page 49 -> out/page_images/2023-06 - fastbreakOne - Expert Guide - Ecosystem Strategy  - English/page-49.png\n",
      "Rendered 2023-06 - fastbreakOne - Expert Guide - Ecosystem Strategy  - English.pdf page 50 -> out/page_images/2023-06 - fastbreakOne - Expert Guide - Ecosystem Strategy  - English/page-50.png\n",
      "Rendered 2023-06 - fastbreakOne - Expert Guide - Ecosystem Strategy  - English.pdf page 51 -> out/page_images/2023-06 - fastbreakOne - Expert Guide - Ecosystem Strategy  - English/page-51.png\n",
      "Rendered 2023-06 - fastbreakOne - Expert Guide - Ecosystem Strategy  - English.pdf page 52 -> out/page_images/2023-06 - fastbreakOne - Expert Guide - Ecosystem Strategy  - English/page-52.png\n",
      "Rendered 2023-06 - fastbreakOne - Expert Guide - Ecosystem Strategy  - English.pdf page 53 -> out/page_images/2023-06 - fastbreakOne - Expert Guide - Ecosystem Strategy  - English/page-53.png\n",
      "Rendered 2023-06 - fastbreakOne - Expert Guide - Ecosystem Strategy  - English.pdf page 54 -> out/page_images/2023-06 - fastbreakOne - Expert Guide - Ecosystem Strategy  - English/page-54.png\n",
      "Rendered 2023-06 - fastbreakOne - Expert Guide - Ecosystem Strategy  - English.pdf page 55 -> out/page_images/2023-06 - fastbreakOne - Expert Guide - Ecosystem Strategy  - English/page-55.png\n",
      "Rendered 2023-06 - fastbreakOne - Expert Guide - Ecosystem Strategy  - English.pdf page 56 -> out/page_images/2023-06 - fastbreakOne - Expert Guide - Ecosystem Strategy  - English/page-56.png\n",
      "Rendered 2023-06 - fastbreakOne - Expert Guide - Ecosystem Strategy  - English.pdf page 57 -> out/page_images/2023-06 - fastbreakOne - Expert Guide - Ecosystem Strategy  - English/page-57.png\n",
      "Rendered 2023-06 - fastbreakOne - Expert Guide - Ecosystem Strategy  - English.pdf page 58 -> out/page_images/2023-06 - fastbreakOne - Expert Guide - Ecosystem Strategy  - English/page-58.png\n",
      "Rendered 2023-06 - fastbreakOne - Expert Guide - Ecosystem Strategy  - English.pdf page 59 -> out/page_images/2023-06 - fastbreakOne - Expert Guide - Ecosystem Strategy  - English/page-59.png\n",
      "Rendered 2023-06 - fastbreakOne - Expert Guide - Ecosystem Strategy  - English.pdf page 60 -> out/page_images/2023-06 - fastbreakOne - Expert Guide - Ecosystem Strategy  - English/page-60.png\n",
      "Rendered 2023-06 - fastbreakOne - Expert Guide - Ecosystem Strategy  - English.pdf page 61 -> out/page_images/2023-06 - fastbreakOne - Expert Guide - Ecosystem Strategy  - English/page-61.png\n",
      "Rendered 2023-06 - fastbreakOne - Expert Guide - Ecosystem Strategy  - English.pdf page 62 -> out/page_images/2023-06 - fastbreakOne - Expert Guide - Ecosystem Strategy  - English/page-62.png\n"
     ]
    },
    {
     "name": "stdout",
     "output_type": "stream",
     "text": [
      "Rendered PIK - Expert Guide - Platform IT Architecture - Playbook - v11.pdf page 1 -> out/page_images/PIK - Expert Guide - Platform IT Architecture - Playbook - v11/page-1.png\n",
      "Rendered PIK - Expert Guide - Platform IT Architecture - Playbook - v11.pdf page 2 -> out/page_images/PIK - Expert Guide - Platform IT Architecture - Playbook - v11/page-2.png\n",
      "Rendered PIK - Expert Guide - Platform IT Architecture - Playbook - v11.pdf page 3 -> out/page_images/PIK - Expert Guide - Platform IT Architecture - Playbook - v11/page-3.png\n",
      "Rendered PIK - Expert Guide - Platform IT Architecture - Playbook - v11.pdf page 4 -> out/page_images/PIK - Expert Guide - Platform IT Architecture - Playbook - v11/page-4.png\n",
      "Rendered PIK - Expert Guide - Platform IT Architecture - Playbook - v11.pdf page 5 -> out/page_images/PIK - Expert Guide - Platform IT Architecture - Playbook - v11/page-5.png\n",
      "Rendered PIK - Expert Guide - Platform IT Architecture - Playbook - v11.pdf page 6 -> out/page_images/PIK - Expert Guide - Platform IT Architecture - Playbook - v11/page-6.png\n",
      "Rendered PIK - Expert Guide - Platform IT Architecture - Playbook - v11.pdf page 7 -> out/page_images/PIK - Expert Guide - Platform IT Architecture - Playbook - v11/page-7.png\n",
      "Rendered PIK - Expert Guide - Platform IT Architecture - Playbook - v11.pdf page 8 -> out/page_images/PIK - Expert Guide - Platform IT Architecture - Playbook - v11/page-8.png\n",
      "Rendered PIK - Expert Guide - Platform IT Architecture - Playbook - v11.pdf page 9 -> out/page_images/PIK - Expert Guide - Platform IT Architecture - Playbook - v11/page-9.png\n",
      "Rendered PIK - Expert Guide - Platform IT Architecture - Playbook - v11.pdf page 10 -> out/page_images/PIK - Expert Guide - Platform IT Architecture - Playbook - v11/page-10.png\n",
      "Rendered PIK - Expert Guide - Platform IT Architecture - Playbook - v11.pdf page 11 -> out/page_images/PIK - Expert Guide - Platform IT Architecture - Playbook - v11/page-11.png\n",
      "Rendered PIK - Expert Guide - Platform IT Architecture - Playbook - v11.pdf page 12 -> out/page_images/PIK - Expert Guide - Platform IT Architecture - Playbook - v11/page-12.png\n",
      "Rendered PIK - Expert Guide - Platform IT Architecture - Playbook - v11.pdf page 13 -> out/page_images/PIK - Expert Guide - Platform IT Architecture - Playbook - v11/page-13.png\n",
      "Rendered PIK - Expert Guide - Platform IT Architecture - Playbook - v11.pdf page 14 -> out/page_images/PIK - Expert Guide - Platform IT Architecture - Playbook - v11/page-14.png\n",
      "Rendered PIK - Expert Guide - Platform IT Architecture - Playbook - v11.pdf page 15 -> out/page_images/PIK - Expert Guide - Platform IT Architecture - Playbook - v11/page-15.png\n",
      "Rendered PIK - Expert Guide - Platform IT Architecture - Playbook - v11.pdf page 16 -> out/page_images/PIK - Expert Guide - Platform IT Architecture - Playbook - v11/page-16.png\n",
      "Rendered PIK - Expert Guide - Platform IT Architecture - Playbook - v11.pdf page 17 -> out/page_images/PIK - Expert Guide - Platform IT Architecture - Playbook - v11/page-17.png\n",
      "Rendered PIK - Expert Guide - Platform IT Architecture - Playbook - v11.pdf page 18 -> out/page_images/PIK - Expert Guide - Platform IT Architecture - Playbook - v11/page-18.png\n",
      "Rendered PIK - Expert Guide - Platform IT Architecture - Playbook - v11.pdf page 19 -> out/page_images/PIK - Expert Guide - Platform IT Architecture - Playbook - v11/page-19.png\n",
      "Rendered PIK - Expert Guide - Platform IT Architecture - Playbook - v11.pdf page 20 -> out/page_images/PIK - Expert Guide - Platform IT Architecture - Playbook - v11/page-20.png\n",
      "Rendered PIK - Expert Guide - Platform IT Architecture - Playbook - v11.pdf page 21 -> out/page_images/PIK - Expert Guide - Platform IT Architecture - Playbook - v11/page-21.png\n",
      "Rendered PIK - Expert Guide - Platform IT Architecture - Playbook - v11.pdf page 22 -> out/page_images/PIK - Expert Guide - Platform IT Architecture - Playbook - v11/page-22.png\n",
      "Rendered PIK - Expert Guide - Platform IT Architecture - Playbook - v11.pdf page 23 -> out/page_images/PIK - Expert Guide - Platform IT Architecture - Playbook - v11/page-23.png\n",
      "Rendered PIK - Expert Guide - Platform IT Architecture - Playbook - v11.pdf page 24 -> out/page_images/PIK - Expert Guide - Platform IT Architecture - Playbook - v11/page-24.png\n",
      "Rendered PIK - Expert Guide - Platform IT Architecture - Playbook - v11.pdf page 25 -> out/page_images/PIK - Expert Guide - Platform IT Architecture - Playbook - v11/page-25.png\n",
      "Rendered PIK - Expert Guide - Platform IT Architecture - Playbook - v11.pdf page 26 -> out/page_images/PIK - Expert Guide - Platform IT Architecture - Playbook - v11/page-26.png\n",
      "Rendered PIK - Expert Guide - Platform IT Architecture - Playbook - v11.pdf page 27 -> out/page_images/PIK - Expert Guide - Platform IT Architecture - Playbook - v11/page-27.png\n",
      "Rendered PIK - Expert Guide - Platform IT Architecture - Playbook - v11.pdf page 28 -> out/page_images/PIK - Expert Guide - Platform IT Architecture - Playbook - v11/page-28.png\n",
      "Rendered PIK - Expert Guide - Platform IT Architecture - Playbook - v11.pdf page 29 -> out/page_images/PIK - Expert Guide - Platform IT Architecture - Playbook - v11/page-29.png\n",
      "Rendered PIK - Expert Guide - Platform IT Architecture - Playbook - v11.pdf page 30 -> out/page_images/PIK - Expert Guide - Platform IT Architecture - Playbook - v11/page-30.png\n",
      "Rendered PIK - Expert Guide - Platform IT Architecture - Playbook - v11.pdf page 31 -> out/page_images/PIK - Expert Guide - Platform IT Architecture - Playbook - v11/page-31.png\n",
      "Rendered PIK - Expert Guide - Platform IT Architecture - Playbook - v11.pdf page 32 -> out/page_images/PIK - Expert Guide - Platform IT Architecture - Playbook - v11/page-32.png\n",
      "Rendered PIK - Expert Guide - Platform IT Architecture - Playbook - v11.pdf page 33 -> out/page_images/PIK - Expert Guide - Platform IT Architecture - Playbook - v11/page-33.png\n",
      "Rendered PIK - Expert Guide - Platform IT Architecture - Playbook - v11.pdf page 34 -> out/page_images/PIK - Expert Guide - Platform IT Architecture - Playbook - v11/page-34.png\n",
      "Rendered PIK - Expert Guide - Platform IT Architecture - Playbook - v11.pdf page 35 -> out/page_images/PIK - Expert Guide - Platform IT Architecture - Playbook - v11/page-35.png\n",
      "Rendered PIK - Expert Guide - Platform IT Architecture - Playbook - v11.pdf page 36 -> out/page_images/PIK - Expert Guide - Platform IT Architecture - Playbook - v11/page-36.png\n",
      "Rendered PIK - Expert Guide - Platform IT Architecture - Playbook - v11.pdf page 37 -> out/page_images/PIK - Expert Guide - Platform IT Architecture - Playbook - v11/page-37.png\n",
      "Rendered PIK - Expert Guide - Platform IT Architecture - Playbook - v11.pdf page 38 -> out/page_images/PIK - Expert Guide - Platform IT Architecture - Playbook - v11/page-38.png\n",
      "Rendered PIK - Expert Guide - Platform IT Architecture - Playbook - v11.pdf page 39 -> out/page_images/PIK - Expert Guide - Platform IT Architecture - Playbook - v11/page-39.png\n",
      "Rendered PIK - Expert Guide - Platform IT Architecture - Playbook - v11.pdf page 40 -> out/page_images/PIK - Expert Guide - Platform IT Architecture - Playbook - v11/page-40.png\n",
      "Rendered PIK - Expert Guide - Platform IT Architecture - Playbook - v11.pdf page 41 -> out/page_images/PIK - Expert Guide - Platform IT Architecture - Playbook - v11/page-41.png\n",
      "Rendered PIK - Expert Guide - Platform IT Architecture - Playbook - v11.pdf page 42 -> out/page_images/PIK - Expert Guide - Platform IT Architecture - Playbook - v11/page-42.png\n",
      "Rendered PIK - Expert Guide - Platform IT Architecture - Playbook - v11.pdf page 43 -> out/page_images/PIK - Expert Guide - Platform IT Architecture - Playbook - v11/page-43.png\n",
      "Rendered PIK - Expert Guide - Platform IT Architecture - Playbook - v11.pdf page 44 -> out/page_images/PIK - Expert Guide - Platform IT Architecture - Playbook - v11/page-44.png\n",
      "Rendered PIK - Expert Guide - Platform IT Architecture - Playbook - v11.pdf page 45 -> out/page_images/PIK - Expert Guide - Platform IT Architecture - Playbook - v11/page-45.png\n",
      "Rendered PIK - Expert Guide - Platform IT Architecture - Playbook - v11.pdf page 46 -> out/page_images/PIK - Expert Guide - Platform IT Architecture - Playbook - v11/page-46.png\n"
     ]
    },
    {
     "name": "stdout",
     "output_type": "stream",
     "text": [
      "Rendered PIK - Expert Guide - Platform IT Architecture - Playbook - v11.pdf page 47 -> out/page_images/PIK - Expert Guide - Platform IT Architecture - Playbook - v11/page-47.png\n",
      "Rendered PIK - Expert Guide - Platform IT Architecture - Playbook - v11.pdf page 48 -> out/page_images/PIK - Expert Guide - Platform IT Architecture - Playbook - v11/page-48.png\n",
      "Rendered PIK - Expert Guide - Platform IT Architecture - Playbook - v11.pdf page 49 -> out/page_images/PIK - Expert Guide - Platform IT Architecture - Playbook - v11/page-49.png\n",
      "Rendered PIK - Expert Guide - Platform IT Architecture - Playbook - v11.pdf page 50 -> out/page_images/PIK - Expert Guide - Platform IT Architecture - Playbook - v11/page-50.png\n"
     ]
    },
    {
     "name": "stdout",
     "output_type": "stream",
     "text": [
      "Rendered PIK 5-0 - Introduction - English.pdf page 1 -> out/page_images/PIK 5-0 - Introduction - English/page-1.png\n",
      "Rendered PIK 5-0 - Introduction - English.pdf page 2 -> out/page_images/PIK 5-0 - Introduction - English/page-2.png\n",
      "Rendered PIK 5-0 - Introduction - English.pdf page 3 -> out/page_images/PIK 5-0 - Introduction - English/page-3.png\n",
      "Rendered PIK 5-0 - Introduction - English.pdf page 4 -> out/page_images/PIK 5-0 - Introduction - English/page-4.png\n",
      "Rendered PIK 5-0 - Introduction - English.pdf page 5 -> out/page_images/PIK 5-0 - Introduction - English/page-5.png\n",
      "Rendered PIK 5-0 - Introduction - English.pdf page 6 -> out/page_images/PIK 5-0 - Introduction - English/page-6.png\n",
      "Rendered PIK 5-0 - Introduction - English.pdf page 7 -> out/page_images/PIK 5-0 - Introduction - English/page-7.png\n",
      "Rendered PIK 5-0 - Introduction - English.pdf page 8 -> out/page_images/PIK 5-0 - Introduction - English/page-8.png\n",
      "Rendered PIK 5-0 - Introduction - English.pdf page 9 -> out/page_images/PIK 5-0 - Introduction - English/page-9.png\n",
      "Rendered PIK 5-0 - Introduction - English.pdf page 10 -> out/page_images/PIK 5-0 - Introduction - English/page-10.png\n",
      "Rendered PIK 5-0 - Introduction - English.pdf page 11 -> out/page_images/PIK 5-0 - Introduction - English/page-11.png\n",
      "Rendered PIK 5-0 - Introduction - English.pdf page 12 -> out/page_images/PIK 5-0 - Introduction - English/page-12.png\n",
      "Rendered PIK 5-0 - Introduction - English.pdf page 13 -> out/page_images/PIK 5-0 - Introduction - English/page-13.png\n",
      "Rendered PIK 5-0 - Introduction - English.pdf page 14 -> out/page_images/PIK 5-0 - Introduction - English/page-14.png\n",
      "Rendered PIK 5-0 - Introduction - English.pdf page 15 -> out/page_images/PIK 5-0 - Introduction - English/page-15.png\n",
      "Rendered PIK 5-0 - Introduction - English.pdf page 16 -> out/page_images/PIK 5-0 - Introduction - English/page-16.png\n",
      "Rendered PIK 5-0 - Introduction - English.pdf page 17 -> out/page_images/PIK 5-0 - Introduction - English/page-17.png\n",
      "Rendered PIK 5-0 - Introduction - English.pdf page 18 -> out/page_images/PIK 5-0 - Introduction - English/page-18.png\n",
      "Rendered PIK 5-0 - Introduction - English.pdf page 19 -> out/page_images/PIK 5-0 - Introduction - English/page-19.png\n",
      "Rendered PIK 5-0 - Introduction - English.pdf page 20 -> out/page_images/PIK 5-0 - Introduction - English/page-20.png\n",
      "Rendered PIK 5-0 - Introduction - English.pdf page 21 -> out/page_images/PIK 5-0 - Introduction - English/page-21.png\n",
      "Rendered PIK 5-0 - Introduction - English.pdf page 22 -> out/page_images/PIK 5-0 - Introduction - English/page-22.png\n",
      "Rendered PIK 5-0 - Introduction - English.pdf page 23 -> out/page_images/PIK 5-0 - Introduction - English/page-23.png\n",
      "Rendered PIK 5-0 - Introduction - English.pdf page 24 -> out/page_images/PIK 5-0 - Introduction - English/page-24.png\n",
      "Rendered PIK 5-0 - Introduction - English.pdf page 25 -> out/page_images/PIK 5-0 - Introduction - English/page-25.png\n",
      "Rendered PIK 5-0 - Introduction - English.pdf page 26 -> out/page_images/PIK 5-0 - Introduction - English/page-26.png\n",
      "Rendered PIK 5-0 - Introduction - English.pdf page 27 -> out/page_images/PIK 5-0 - Introduction - English/page-27.png\n",
      "Rendered PIK 5-0 - Introduction - English.pdf page 28 -> out/page_images/PIK 5-0 - Introduction - English/page-28.png\n",
      "Rendered PIK 5-0 - Introduction - English.pdf page 29 -> out/page_images/PIK 5-0 - Introduction - English/page-29.png\n",
      "Rendered PIK 5-0 - Introduction - English.pdf page 30 -> out/page_images/PIK 5-0 - Introduction - English/page-30.png\n",
      "Rendered PIK 5-0 - Introduction - English.pdf page 31 -> out/page_images/PIK 5-0 - Introduction - English/page-31.png\n",
      "Rendered PIK 5-0 - Introduction - English.pdf page 32 -> out/page_images/PIK 5-0 - Introduction - English/page-32.png\n",
      "Rendered PIK 5-0 - Introduction - English.pdf page 33 -> out/page_images/PIK 5-0 - Introduction - English/page-33.png\n",
      "Rendered PIK 5-0 - Introduction - English.pdf page 34 -> out/page_images/PIK 5-0 - Introduction - English/page-34.png\n",
      "Rendered PIK 5-0 - Introduction - English.pdf page 35 -> out/page_images/PIK 5-0 - Introduction - English/page-35.png\n",
      "Rendered PIK 5-0 - Introduction - English.pdf page 36 -> out/page_images/PIK 5-0 - Introduction - English/page-36.png\n",
      "Rendered PIK 5-0 - Introduction - English.pdf page 37 -> out/page_images/PIK 5-0 - Introduction - English/page-37.png\n",
      "Rendered PIK 5-0 - Introduction - English.pdf page 38 -> out/page_images/PIK 5-0 - Introduction - English/page-38.png\n",
      "Rendered PIK 5-0 - Introduction - English.pdf page 39 -> out/page_images/PIK 5-0 - Introduction - English/page-39.png\n",
      "Rendered PIK 5-0 - Introduction - English.pdf page 40 -> out/page_images/PIK 5-0 - Introduction - English/page-40.png\n",
      "Rendered PIK 5-0 - Introduction - English.pdf page 41 -> out/page_images/PIK 5-0 - Introduction - English/page-41.png\n",
      "Rendered PIK 5-0 - Introduction - English.pdf page 42 -> out/page_images/PIK 5-0 - Introduction - English/page-42.png\n",
      "Rendered PIK 5-0 - Introduction - English.pdf page 43 -> out/page_images/PIK 5-0 - Introduction - English/page-43.png\n",
      "Rendered PIK 5-0 - Introduction - English.pdf page 44 -> out/page_images/PIK 5-0 - Introduction - English/page-44.png\n",
      "Rendered PIK 5-0 - Introduction - English.pdf page 45 -> out/page_images/PIK 5-0 - Introduction - English/page-45.png\n",
      "Rendered PIK 5-0 - Introduction - English.pdf page 46 -> out/page_images/PIK 5-0 - Introduction - English/page-46.png\n",
      "Rendered PIK 5-0 - Introduction - English.pdf page 47 -> out/page_images/PIK 5-0 - Introduction - English/page-47.png\n",
      "Rendered PIK 5-0 - Introduction - English.pdf page 48 -> out/page_images/PIK 5-0 - Introduction - English/page-48.png\n",
      "Rendered PIK 5-0 - Introduction - English.pdf page 49 -> out/page_images/PIK 5-0 - Introduction - English/page-49.png\n"
     ]
    },
    {
     "name": "stdout",
     "output_type": "stream",
     "text": [
      "Rendered L1 - Ecosystems Portfolio Map - v01.pdf page 1 -> out/page_images/L1 - Ecosystems Portfolio Map - v01/page-1.png\n"
     ]
    },
    {
     "name": "stdout",
     "output_type": "stream",
     "text": [
      "Rendered L2 - Ecosystem Strategy Map.pdf page 1 -> out/page_images/L2 - Ecosystem Strategy Map/page-1.png\n"
     ]
    },
    {
     "name": "stdout",
     "output_type": "stream",
     "text": [
      "Rendered L2 - Market Ecosystem Journey.pdf page 1 -> out/page_images/L2 - Market Ecosystem Journey/page-1.png\n"
     ]
    },
    {
     "name": "stdout",
     "output_type": "stream",
     "text": [
      "Rendered L3 - Platform Value Network Canvas.pdf page 1 -> out/page_images/L3 - Platform Value Network Canvas/page-1.png\n"
     ]
    },
    {
     "name": "stdout",
     "output_type": "stream",
     "text": [
      "Rendered PIK - Expert Guide - Platform IT Architecture - Assessment - v01.pdf page 1 -> out/page_images/PIK - Expert Guide - Platform IT Architecture - Assessment - v01/page-1.png\n"
     ]
    },
    {
     "name": "stdout",
     "output_type": "stream",
     "text": [
      "Rendered PIK - Platform IT Architecture Canvas - Table View - v01.pdf page 1 -> out/page_images/PIK - Platform IT Architecture Canvas - Table View - v01/page-1.png\n"
     ]
    },
    {
     "name": "stdout",
     "output_type": "stream",
     "text": [
      "Rendered PIK - Platform IT Architecture Canvases - v01.pdf page 1 -> out/page_images/PIK - Platform IT Architecture Canvases - v01/page-1.png\n"
     ]
    },
    {
     "name": "stdout",
     "output_type": "stream",
     "text": [
      "Rendered PIK 5-0 - Ecosystem Forces Scan - ENG.pdf page 1 -> out/page_images/PIK 5-0 - Ecosystem Forces Scan - ENG/page-1.png\n"
     ]
    },
    {
     "name": "stdout",
     "output_type": "stream",
     "text": [
      "Rendered PIK 5-0 - Longtail Discovery - ENG.pdf page 1 -> out/page_images/PIK 5-0 - Longtail Discovery - ENG/page-1.png\n"
     ]
    },
    {
     "name": "stdout",
     "output_type": "stream",
     "text": [
      "Rendered PIK 5-0 - MVP - ENG.pdf page 1 -> out/page_images/PIK 5-0 - MVP - ENG/page-1.png\n"
     ]
    },
    {
     "name": "stdout",
     "output_type": "stream",
     "text": [
      "Rendered PIK 5-0 - Market Sizing - ENG.pdf page 1 -> out/page_images/PIK 5-0 - Market Sizing - ENG/page-1.png\n"
     ]
    },
    {
     "name": "stdout",
     "output_type": "stream",
     "text": [
      "Rendered PIK 5-0 - NFX Reinforcement Engines - ENG.pdf page 1 -> out/page_images/PIK 5-0 - NFX Reinforcement Engines - ENG/page-1.png\n"
     ]
    },
    {
     "name": "stdout",
     "output_type": "stream",
     "text": [
      "Rendered PIK 5-0 - Network Effects Stimulation - ENG.pdf page 1 -> out/page_images/PIK 5-0 - Network Effects Stimulation - ENG/page-1.png\n"
     ]
    },
    {
     "name": "stdout",
     "output_type": "stream",
     "text": [
      "Rendered PIK 5-0 - Platform AARRR Funnel - ENG.pdf page 1 -> out/page_images/PIK 5-0 - Platform AARRR Funnel - ENG/page-1.png\n"
     ]
    },
    {
     "name": "stdout",
     "output_type": "stream",
     "text": [
      "Rendered PIK 5-0 - Platform Business Model - ENG.pdf page 1 -> out/page_images/PIK 5-0 - Platform Business Model - ENG/page-1.png\n"
     ]
    },
    {
     "name": "stdout",
     "output_type": "stream",
     "text": [
      "Rendered PIK 5-0 - Platform Crisis Response - ENG.pdf page 1 -> out/page_images/PIK 5-0 - Platform Crisis Response - ENG/page-1.png\n"
     ]
    },
    {
     "name": "stdout",
     "output_type": "stream",
     "text": [
      "Rendered PIK 5-0 - Platform Evolution - ENG.pdf page 1 -> out/page_images/PIK 5-0 - Platform Evolution - ENG/page-1.png\n"
     ]
    },
    {
     "name": "stdout",
     "output_type": "stream",
     "text": [
      "Rendered PIK 5-0 - Platform Experience - ENG.pdf page 1 -> out/page_images/PIK 5-0 - Platform Experience - ENG/page-1.png\n"
     ]
    },
    {
     "name": "stdout",
     "output_type": "stream",
     "text": [
      "Rendered PIK 5-0 - Platform Monetization Canvas - ENG.pdf page 1 -> out/page_images/PIK 5-0 - Platform Monetization Canvas - ENG/page-1.png\n"
     ]
    },
    {
     "name": "stdout",
     "output_type": "stream",
     "text": [
      "Rendered PIK 5-0 - Platform Opportunity - ENG.pdf page 1 -> out/page_images/PIK 5-0 - Platform Opportunity - ENG/page-1.png\n"
     ]
    },
    {
     "name": "stdout",
     "output_type": "stream",
     "text": [
      "Rendered PIK 5-0 - Platform Stakeholder Persona - ENG.pdf page 1 -> out/page_images/PIK 5-0 - Platform Stakeholder Persona - ENG/page-1.png\n"
     ]
    },
    {
     "name": "stdout",
     "output_type": "stream",
     "text": [
      "Rendered PIK 5-0 - Platform Team - ENG.pdf page 1 -> out/page_images/PIK 5-0 - Platform Team - ENG/page-1.png\n"
     ]
    },
    {
     "name": "stdout",
     "output_type": "stream",
     "text": [
      "Rendered PIK 5-0 - Platform USP - ENG.pdf page 1 -> out/page_images/PIK 5-0 - Platform USP - ENG/page-1.png\n"
     ]
    },
    {
     "name": "stdout",
     "output_type": "stream",
     "text": [
      "Rendered PIK 5-0 - Platform Value Network Canvas - ENG.pdf page 1 -> out/page_images/PIK 5-0 - Platform Value Network Canvas - ENG/page-1.png\n"
     ]
    },
    {
     "name": "stdout",
     "output_type": "stream",
     "text": [
      "Rendered PIK 5-0 - Problem-Prioritization Matrix Canvas - ENG.pdf page 1 -> out/page_images/PIK 5-0 - Problem-Prioritization Matrix Canvas - ENG/page-1.png\n"
     ]
    },
    {
     "name": "stdout",
     "output_type": "stream",
     "text": [
      "Rendered PIK 5-0 - Unfair Advantage - ENG.pdf page 1 -> out/page_images/PIK 5-0 - Unfair Advantage - ENG/page-1.png\n"
     ]
    },
    {
     "name": "stdout",
     "output_type": "stream",
     "text": [
      "Rendered PIK 5-0 - User Behaviour - ENG.pdf page 1 -> out/page_images/PIK 5-0 - User Behaviour - ENG/page-1.png\n"
     ]
    },
    {
     "name": "stdout",
     "output_type": "stream",
     "text": [
      "Rendered PIK 5-0 - Value Chain Scan - ENG.pdf page 1 -> out/page_images/PIK 5-0 - Value Chain Scan - ENG/page-1.png\n"
     ]
    },
    {
     "name": "stdout",
     "output_type": "stream",
     "text": [
      "Rendered PIK 5-0 - Venture Governance - ENG.pdf page 1 -> out/page_images/PIK 5-0 - Venture Governance - ENG/page-1.png\n",
      "Rendering /root/data/playbooks/2023-06 - fastbreakOne - Expert Guide - Ecosystem Strategy  - English.pdf -> out/page_images/2023-06 - fastbreakOne - Expert Guide - Ecosystem Strategy  - English (pages: 62, dpi=300)\n",
      "Rendering /root/data/playbooks/PIK - Expert Guide - Platform IT Architecture - Playbook - v11.pdf -> out/page_images/PIK - Expert Guide - Platform IT Architecture - Playbook - v11 (pages: 50, dpi=300)\n",
      "Rendering /root/data/playbooks/PIK 5-0 - Introduction - English.pdf -> out/page_images/PIK 5-0 - Introduction - English (pages: 49, dpi=300)\n",
      "Rendering /root/data/frames/L1 - Ecosystems Portfolio Map - v01.pdf -> out/page_images/L1 - Ecosystems Portfolio Map - v01 (pages: 1, dpi=300)\n",
      "Rendering /root/data/frames/L2 - Ecosystem Strategy Map.pdf -> out/page_images/L2 - Ecosystem Strategy Map (pages: 1, dpi=300)\n",
      "Rendering /root/data/frames/L2 - Market Ecosystem Journey.pdf -> out/page_images/L2 - Market Ecosystem Journey (pages: 1, dpi=300)\n",
      "Rendering /root/data/frames/L3 - Platform Value Network Canvas.pdf -> out/page_images/L3 - Platform Value Network Canvas (pages: 1, dpi=300)\n",
      "Rendering /root/data/frames/PIK - Expert Guide - Platform IT Architecture - Assessment - v01.pdf -> out/page_images/PIK - Expert Guide - Platform IT Architecture - Assessment - v01 (pages: 1, dpi=300)\n",
      "Rendering /root/data/frames/PIK - Platform IT Architecture Canvas - Table View - v01.pdf -> out/page_images/PIK - Platform IT Architecture Canvas - Table View - v01 (pages: 1, dpi=300)\n",
      "Rendering /root/data/frames/PIK - Platform IT Architecture Canvases - v01.pdf -> out/page_images/PIK - Platform IT Architecture Canvases - v01 (pages: 1, dpi=300)\n",
      "Rendering /root/data/frames/PIK 5-0 - Ecosystem Forces Scan - ENG.pdf -> out/page_images/PIK 5-0 - Ecosystem Forces Scan - ENG (pages: 1, dpi=300)\n",
      "Rendering /root/data/frames/PIK 5-0 - Longtail Discovery - ENG.pdf -> out/page_images/PIK 5-0 - Longtail Discovery - ENG (pages: 1, dpi=300)\n",
      "Rendering /root/data/frames/PIK 5-0 - MVP - ENG.pdf -> out/page_images/PIK 5-0 - MVP - ENG (pages: 1, dpi=300)\n",
      "Rendering /root/data/frames/PIK 5-0 - Market Sizing - ENG.pdf -> out/page_images/PIK 5-0 - Market Sizing - ENG (pages: 1, dpi=300)\n",
      "Rendering /root/data/frames/PIK 5-0 - NFX Reinforcement Engines - ENG.pdf -> out/page_images/PIK 5-0 - NFX Reinforcement Engines - ENG (pages: 1, dpi=300)\n",
      "Rendering /root/data/frames/PIK 5-0 - Network Effects Stimulation - ENG.pdf -> out/page_images/PIK 5-0 - Network Effects Stimulation - ENG (pages: 1, dpi=300)\n",
      "Rendering /root/data/frames/PIK 5-0 - Platform AARRR Funnel - ENG.pdf -> out/page_images/PIK 5-0 - Platform AARRR Funnel - ENG (pages: 1, dpi=300)\n",
      "Rendering /root/data/frames/PIK 5-0 - Platform Business Model - ENG.pdf -> out/page_images/PIK 5-0 - Platform Business Model - ENG (pages: 1, dpi=300)\n",
      "Rendering /root/data/frames/PIK 5-0 - Platform Crisis Response - ENG.pdf -> out/page_images/PIK 5-0 - Platform Crisis Response - ENG (pages: 1, dpi=300)\n",
      "Rendering /root/data/frames/PIK 5-0 - Platform Evolution - ENG.pdf -> out/page_images/PIK 5-0 - Platform Evolution - ENG (pages: 1, dpi=300)\n",
      "Rendering /root/data/frames/PIK 5-0 - Platform Experience - ENG.pdf -> out/page_images/PIK 5-0 - Platform Experience - ENG (pages: 1, dpi=300)\n",
      "Rendering /root/data/frames/PIK 5-0 - Platform Monetization Canvas - ENG.pdf -> out/page_images/PIK 5-0 - Platform Monetization Canvas - ENG (pages: 1, dpi=300)\n",
      "Rendering /root/data/frames/PIK 5-0 - Platform Opportunity - ENG.pdf -> out/page_images/PIK 5-0 - Platform Opportunity - ENG (pages: 1, dpi=300)\n",
      "Rendering /root/data/frames/PIK 5-0 - Platform Stakeholder Persona - ENG.pdf -> out/page_images/PIK 5-0 - Platform Stakeholder Persona - ENG (pages: 1, dpi=300)\n",
      "Rendering /root/data/frames/PIK 5-0 - Platform Team - ENG.pdf -> out/page_images/PIK 5-0 - Platform Team - ENG (pages: 1, dpi=300)\n",
      "Rendering /root/data/frames/PIK 5-0 - Platform USP - ENG.pdf -> out/page_images/PIK 5-0 - Platform USP - ENG (pages: 1, dpi=300)\n",
      "Rendering /root/data/frames/PIK 5-0 - Platform Value Network Canvas - ENG.pdf -> out/page_images/PIK 5-0 - Platform Value Network Canvas - ENG (pages: 1, dpi=300)\n",
      "Rendering /root/data/frames/PIK 5-0 - Problem-Prioritization Matrix Canvas - ENG.pdf -> out/page_images/PIK 5-0 - Problem-Prioritization Matrix Canvas - ENG (pages: 1, dpi=300)\n",
      "Rendering /root/data/frames/PIK 5-0 - Unfair Advantage - ENG.pdf -> out/page_images/PIK 5-0 - Unfair Advantage - ENG (pages: 1, dpi=300)\n",
      "Rendering /root/data/frames/PIK 5-0 - User Behaviour - ENG.pdf -> out/page_images/PIK 5-0 - User Behaviour - ENG (pages: 1, dpi=300)\n",
      "Rendering /root/data/frames/PIK 5-0 - Value Chain Scan - ENG.pdf -> out/page_images/PIK 5-0 - Value Chain Scan - ENG (pages: 1, dpi=300)\n",
      "Rendering /root/data/frames/PIK 5-0 - Venture Governance - ENG.pdf -> out/page_images/PIK 5-0 - Venture Governance - ENG (pages: 1, dpi=300)\n"
     ]
    }
   ],
   "source": [
    "if DO_RENDER:\n",
    "    run(['python', 'scripts/batch_render.py', '--src', PLAYBOOKS_DST, FRAMES_DST, '--out-root', 'out/page_images', '--dpi', '300'])\n",
    "else:\n",
    "    print('Skip render (DO_RENDER=0)')\n"
   ]
  },
  {
   "cell_type": "markdown",
   "id": "60140448",
   "metadata": {},
   "source": [
    "## 3) GroundedDINO + SAM2 на всех PNG"
   ]
  },
  {
   "cell_type": "code",
   "execution_count": 5,
   "id": "8661d410",
   "metadata": {
    "execution": {
     "iopub.execute_input": "2025-09-18T20:31:50.714904Z",
     "iopub.status.busy": "2025-09-18T20:31:50.714814Z",
     "iopub.status.idle": "2025-09-18T20:34:04.002254Z",
     "shell.execute_reply": "2025-09-18T20:34:04.001985Z"
    }
   },
   "outputs": [
    {
     "name": "stdout",
     "output_type": "stream",
     "text": [
      "[run] python scripts/batch_gdino_sam2.py --pages-root out/page_images --outdir out/visual/grounded_regions --prompts diagram canvas table legend node arrow\n"
     ]
    },
    {
     "name": "stderr",
     "output_type": "stream",
     "text": [
      "FutureWarning: Importing from timm.models.layers is deprecated, please import via timm.layers\n",
      "UserWarning: torch.meshgrid: in an upcoming release, it will be required to pass the indexing argument. (Triggered internally at ../aten/src/ATen/native/TensorShape.cpp:3609.)\n"
     ]
    },
    {
     "name": "stderr",
     "output_type": "stream",
     "text": [
      "FutureWarning: You are using `torch.load` with `weights_only=False` (the current default value), which uses the default pickle module implicitly. It is possible to construct malicious pickle data which will execute arbitrary code during unpickling (See https://github.com/pytorch/pytorch/blob/main/SECURITY.md#untrusted-models for more details). In a future release, the default value for `weights_only` will be flipped to `True`. This limits the functions that could be executed during unpickling. Arbitrary objects will no longer be allowed to be loaded via this mode unless they are explicitly allowlisted by the user via `torch.serialization.add_safe_globals`. We recommend you start setting `weights_only=True` for any use case where you don't have full control of the loaded file. Please open an issue on GitHub for any issues related to this experimental feature.\n"
     ]
    },
    {
     "name": "stderr",
     "output_type": "stream",
     "text": [
      "FutureWarning: The `device` argument is deprecated and will be removed in v5 of Transformers.\n",
      "UserWarning: torch.utils.checkpoint: the use_reentrant parameter should be passed explicitly. In version 2.4 we will raise an exception if use_reentrant is not passed. use_reentrant=False is recommended, but if you need to preserve the current default behavior, you can pass use_reentrant=True. Refer to docs for more details on the differences between the two variants.\n",
      "UserWarning: None of the inputs have requires_grad=True. Gradients will be None\n"
     ]
    },
    {
     "name": "stderr",
     "output_type": "stream",
     "text": [
      "FutureWarning: `torch.cuda.amp.autocast(args...)` is deprecated. Please use `torch.amp.autocast('cuda', args...)` instead.\n"
     ]
    },
    {
     "name": "stdout",
     "output_type": "stream",
     "text": [
      "final text_encoder_type: bert-base-uncased\n",
      "[OK] out/page_images/2023-06 - fastbreakOne - Expert Guide - Ecosystem Strategy  - English/page-1.png: сохранено 3 регионов -> out/visual/grounded_regions/page-1/regions\n",
      "[OK] out/page_images/2023-06 - fastbreakOne - Expert Guide - Ecosystem Strategy  - English/page-10.png: сохранено 5 регионов -> out/visual/grounded_regions/page-10/regions\n",
      "[OK] out/page_images/2023-06 - fastbreakOne - Expert Guide - Ecosystem Strategy  - English/page-11.png: сохранено 4 регионов -> out/visual/grounded_regions/page-11/regions\n",
      "[OK] out/page_images/2023-06 - fastbreakOne - Expert Guide - Ecosystem Strategy  - English/page-12.png: сохранено 3 регионов -> out/visual/grounded_regions/page-12/regions\n",
      "[OK] out/page_images/2023-06 - fastbreakOne - Expert Guide - Ecosystem Strategy  - English/page-13.png: сохранено 2 регионов -> out/visual/grounded_regions/page-13/regions\n",
      "[OK] out/page_images/2023-06 - fastbreakOne - Expert Guide - Ecosystem Strategy  - English/page-14.png: сохранено 5 регионов -> out/visual/grounded_regions/page-14/regions\n",
      "[OK] out/page_images/2023-06 - fastbreakOne - Expert Guide - Ecosystem Strategy  - English/page-15.png: сохранено 3 регионов -> out/visual/grounded_regions/page-15/regions\n",
      "[OK] out/page_images/2023-06 - fastbreakOne - Expert Guide - Ecosystem Strategy  - English/page-16.png: сохранено 2 регионов -> out/visual/grounded_regions/page-16/regions\n",
      "[OK] out/page_images/2023-06 - fastbreakOne - Expert Guide - Ecosystem Strategy  - English/page-17.png: сохранено 5 регионов -> out/visual/grounded_regions/page-17/regions\n",
      "[OK] out/page_images/2023-06 - fastbreakOne - Expert Guide - Ecosystem Strategy  - English/page-18.png: сохранено 4 регионов -> out/visual/grounded_regions/page-18/regions\n",
      "[OK] out/page_images/2023-06 - fastbreakOne - Expert Guide - Ecosystem Strategy  - English/page-19.png: сохранено 3 регионов -> out/visual/grounded_regions/page-19/regions\n",
      "[OK] out/page_images/2023-06 - fastbreakOne - Expert Guide - Ecosystem Strategy  - English/page-2.png: сохранено 4 регионов -> out/visual/grounded_regions/page-2/regions\n",
      "[OK] out/page_images/2023-06 - fastbreakOne - Expert Guide - Ecosystem Strategy  - English/page-20.png: сохранено 2 регионов -> out/visual/grounded_regions/page-20/regions\n",
      "[OK] out/page_images/2023-06 - fastbreakOne - Expert Guide - Ecosystem Strategy  - English/page-21.png: сохранено 2 регионов -> out/visual/grounded_regions/page-21/regions\n",
      "[OK] out/page_images/2023-06 - fastbreakOne - Expert Guide - Ecosystem Strategy  - English/page-22.png: сохранено 5 регионов -> out/visual/grounded_regions/page-22/regions\n",
      "[OK] out/page_images/2023-06 - fastbreakOne - Expert Guide - Ecosystem Strategy  - English/page-23.png: сохранено 3 ��егионов -> out/visual/grounded_regions/page-23/regions\n",
      "[OK] out/page_images/2023-06 - fastbreakOne - Expert Guide - Ecosystem Strategy  - English/page-24.png: сохранено 3 регионов -> out/visual/grounded_regions/page-24/regions\n",
      "[OK] out/page_images/2023-06 - fastbreakOne - Expert Guide - Ecosystem Strategy  - English/page-25.png: сохранено 3 регионов -> out/visual/grounded_regions/page-25/regions\n",
      "[OK] out/page_images/2023-06 - fastbreakOne - Expert Guide - Ecosystem Strategy  - English/page-26.png: сохранено 2 регионов -> out/visual/grounded_regions/page-26/regions\n",
      "[OK] out/page_images/2023-06 - fastbreakOne - Expert Guide - Ecosystem Strategy  - English/page-27.png: сохранено 3 регионов -> out/visual/grounded_regions/page-27/regions\n",
      "[OK] out/page_images/2023-06 - fastbreakOne - Expert Guide - Ecosystem Strategy  - English/page-28.png: сохранено 2 регионов -> out/visual/grounded_regions/page-28/regions\n",
      "[OK] out/page_images/2023-06 - fastbreakOne - Expert Guide - Ecosystem Strategy  - English/page-29.png: сохранено 5 регионов -> out/visual/grounded_regions/page-29/regions\n",
      "[OK] out/page_images/2023-06 - fastbreakOne - Expert Guide - Ecosystem Strategy  - English/page-3.png: сохранено 4 регионов -> out/visual/grounded_regions/page-3/regions\n",
      "[OK] out/page_images/2023-06 - fastbreakOne - Expert Guide - Ecosystem Strategy  - English/page-30.png: сохранено 3 регионов -> out/visual/grounded_regions/page-30/regions\n",
      "[OK] out/page_images/2023-06 - fastbreakOne - Expert Guide - Ecosystem Strategy  - English/page-31.png: сохранено 3 регионов -> out/visual/grounded_regions/page-31/regions\n",
      "[OK] out/page_images/2023-06 - fastbreakOne - Expert Guide - Ecosystem Strategy  - English/page-32.png: сохранено 3 регионов -> out/visual/grounded_regions/page-32/regions\n",
      "[OK] out/page_images/2023-06 - fastbreakOne - Expert Guide - Ecosystem Strategy  - English/page-33.png: сохранено 5 регионов -> out/visual/grounded_regions/page-33/regions\n",
      "[OK] out/page_images/2023-06 - fastbreakOne - Expert Guide - Ecosystem Strategy  - English/page-34.png: сохранено 6 регионов -> out/visual/grounded_regions/page-34/regions\n",
      "[OK] out/page_images/2023-06 - fastbreakOne - Expert Guide - Ecosystem Strategy  - English/page-35.png: сохранено 3 регионов -> out/visual/grounded_regions/page-35/regions\n",
      "[OK] out/page_images/2023-06 - fastbreakOne - Expert Guide - Ecosystem Strategy  - English/page-36.png: сохранено 2 регионов -> out/visual/grounded_regions/page-36/regions\n",
      "[OK] out/page_images/2023-06 - fastbreakOne - Expert Guide - Ecosystem Strategy  - English/page-37.png: сохранено 2 регионов -> out/visual/grounded_regions/page-37/regions\n",
      "[OK] out/page_images/2023-06 - fastbreakOne - Expert Guide - Ecosystem Strategy  - English/page-38.png: сохранено 2 регионов -> out/visual/grounded_regions/page-38/regions\n",
      "[OK] out/page_images/2023-06 - fastbreakOne - Expert Guide - Ecosystem Strategy  - English/page-39.png: сохранено 4 регионов -> out/visual/grounded_regions/page-39/regions\n",
      "[OK] out/page_images/2023-06 - fastbreakOne - Expert Guide - Ecosystem Strategy  - English/page-4.png: сохранено 4 регионов -> out/visual/grounded_regions/page-4/regions\n",
      "[OK] out/page_images/2023-06 - fastbreakOne - Expert Guide - Ecosystem Strategy  - English/page-40.png: сохранено 4 регионов -> out/visual/grounded_regions/page-40/regions\n",
      "[OK] out/page_images/2023-06 - fastbreakOne - Expert Guide - Ecosystem Strategy  - English/page-41.png: сохранено 2 регионов -> out/visual/grounded_regions/page-41/regions\n",
      "[OK] out/page_images/2023-06 - fastbreakOne - Expert Guide - Ecosystem Strategy  - English/page-42.png: сохранено 2 регионов -> out/visual/grounded_regions/page-42/regions\n",
      "[OK] out/page_images/2023-06 - fastbreakOne - Expert Guide - Ecosystem Strategy  - English/page-43.png: сохранено 1 регионов -> out/visual/grounded_regions/page-43/regions\n",
      "[OK] out/page_images/2023-06 - fastbreakOne - Expert Guide - Ecosystem Strategy  - English/page-44.png: сохранено 2 регионов -> out/visual/grounded_regions/page-44/regions\n",
      "[warn] GroundingDINO не нашёл регионов для out/page_images/2023-06 - fastbreakOne - Expert Guide - Ecosystem Strategy  - English/page-45.png; пропускаем файл\n",
      "[OK] out/page_images/2023-06 - fastbreakOne - Expert Guide - Ecosystem Strategy  - English/page-46.png: сохранено 5 регионов -> out/visual/grounded_regions/page-46/regions\n",
      "[OK] out/page_images/2023-06 - fastbreakOne - Expert Guide - Ecosystem Strategy  - English/page-47.png: сохранено 3 регионов -> out/visual/grounded_regions/page-47/regions\n",
      "[OK] out/page_images/2023-06 - fastbreakOne - Expert Guide - Ecosystem Strategy  - English/page-48.png: сохранено 4 регионов -> out/visual/grounded_regions/page-48/regions\n"
     ]
    },
    {
     "name": "stdout",
     "output_type": "stream",
     "text": [
      "[OK] out/page_images/2023-06 - fastbreakOne - Expert Guide - Ecosystem Strategy  - English/page-49.png: сохранено 3 регионов -> out/visual/grounded_regions/page-49/regions\n",
      "[OK] out/page_images/2023-06 - fastbreakOne - Expert Guide - Ecosystem Strategy  - English/page-5.png: сохранено 4 регионов -> out/visual/grounded_regions/page-5/regions\n",
      "[OK] out/page_images/2023-06 - fastbreakOne - Expert Guide - Ecosystem Strategy  - English/page-50.png: сохранено 4 регионов -> out/visual/grounded_regions/page-50/regions\n",
      "[OK] out/page_images/2023-06 - fastbreakOne - Expert Guide - Ecosystem Strategy  - English/page-51.png: сохранено 3 регионов -> out/visual/grounded_regions/page-51/regions\n",
      "[OK] out/page_images/2023-06 - fastbreakOne - Expert Guide - Ecosystem Strategy  - English/page-52.png: сохранено 3 регионов -> out/visual/grounded_regions/page-52/regions\n",
      "[OK] out/page_images/2023-06 - fastbreakOne - Expert Guide - Ecosystem Strategy  - English/page-53.png: сохранено 2 регионов -> out/visual/grounded_regions/page-53/regions\n",
      "[OK] out/page_images/2023-06 - fastbreakOne - Expert Guide - Ecosystem Strategy  - English/page-54.png: сохранено 3 регионов -> out/visual/grounded_regions/page-54/regions\n",
      "[OK] out/page_images/2023-06 - fastbreakOne - Expert Guide - Ecosystem Strategy  - English/page-55.png: сохранено 2 регионов -> out/visual/grounded_regions/page-55/regions\n",
      "[OK] out/page_images/2023-06 - fastbreakOne - Expert Guide - Ecosystem Strategy  - English/page-56.png: сохранено 6 регионов -> out/visual/grounded_regions/page-56/regions\n",
      "[OK] out/page_images/2023-06 - fastbreakOne - Expert Guide - Ecosystem Strategy  - English/page-57.png: сохранено 3 регионов -> out/visual/grounded_regions/page-57/regions\n",
      "[OK] out/page_images/2023-06 - fastbreakOne - Expert Guide - Ecosystem Strategy  - English/page-58.png: сохранено 1 регионов -> out/visual/grounded_regions/page-58/regions\n",
      "[OK] out/page_images/2023-06 - fastbreakOne - Expert Guide - Ecosystem Strategy  - English/page-59.png: сохранено 2 регионов -> out/visual/grounded_regions/page-59/regions\n",
      "[OK] out/page_images/2023-06 - fastbreakOne - Expert Guide - Ecosystem Strategy  - English/page-6.png: сохранено 2 регионов -> out/visual/grounded_regions/page-6/regions\n",
      "[OK] out/page_images/2023-06 - fastbreakOne - Expert Guide - Ecosystem Strategy  - English/page-60.png: сохранено 2 регионов -> out/visual/grounded_regions/page-60/regions\n",
      "[OK] out/page_images/2023-06 - fastbreakOne - Expert Guide - Ecosystem Strategy  - English/page-61.png: сохранено 2 регионов -> out/visual/grounded_regions/page-61/regions\n",
      "[OK] out/page_images/2023-06 - fastbreakOne - Expert Guide - Ecosystem Strategy  - English/page-62.png: сохранено 2 регионов -> out/visual/grounded_regions/page-62/regions\n",
      "[OK] out/page_images/2023-06 - fastbreakOne - Expert Guide - Ecosystem Strategy  - English/page-7.png: сохранено 3 регионов -> out/visual/grounded_regions/page-7/regions\n",
      "[OK] out/page_images/2023-06 - fastbreakOne - Expert Guide - Ecosystem Strategy  - English/page-8.png: сохранено 3 регионов -> out/visual/grounded_regions/page-8/regions\n",
      "[OK] out/page_images/2023-06 - fastbreakOne - Expert Guide - Ecosystem Strategy  - English/page-9.png: сохранено 4 регионов -> out/visual/grounded_regions/page-9/regions\n",
      "[OK] out/page_images/L1 - Ecosystems Portfolio Map - v01/page-1.png: сохранено 3 регионов -> out/visual/grounded_regions/page-1/regions\n",
      "[OK] out/page_images/L2 - Ecosystem Strategy Map/page-1.png: сохранено 3 регионов -> out/visual/grounded_regions/page-1/regions\n"
     ]
    },
    {
     "name": "stderr",
     "output_type": "stream",
     "text": [
      "FutureWarning: Importing from timm.models.layers is deprecated, please import via timm.layers\n",
      "UserWarning: torch.meshgrid: in an upcoming release, it will be required to pass the indexing argument. (Triggered internally at ../aten/src/ATen/native/TensorShape.cpp:3609.)\n"
     ]
    },
    {
     "name": "stderr",
     "output_type": "stream",
     "text": [
      "FutureWarning: You are using `torch.load` with `weights_only=False` (the current default value), which uses the default pickle module implicitly. It is possible to construct malicious pickle data which will execute arbitrary code during unpickling (See https://github.com/pytorch/pytorch/blob/main/SECURITY.md#untrusted-models for more details). In a future release, the default value for `weights_only` will be flipped to `True`. This limits the functions that could be executed during unpickling. Arbitrary objects will no longer be allowed to be loaded via this mode unless they are explicitly allowlisted by the user via `torch.serialization.add_safe_globals`. We recommend you start setting `weights_only=True` for any use case where you don't have full control of the loaded file. Please open an issue on GitHub for any issues related to this experimental feature.\n"
     ]
    },
    {
     "name": "stderr",
     "output_type": "stream",
     "text": [
      "FutureWarning: The `device` argument is deprecated and will be removed in v5 of Transformers.\n",
      "UserWarning: torch.utils.checkpoint: the use_reentrant parameter should be passed explicitly. In version 2.4 we will raise an exception if use_reentrant is not passed. use_reentrant=False is recommended, but if you need to preserve the current default behavior, you can pass use_reentrant=True. Refer to docs for more details on the differences between the two variants.\n",
      "UserWarning: None of the inputs have requires_grad=True. Gradients will be None\n",
      "FutureWarning: `torch.cuda.amp.autocast(args...)` is deprecated. Please use `torch.amp.autocast('cuda', args...)` instead.\n"
     ]
    },
    {
     "name": "stdout",
     "output_type": "stream",
     "text": [
      "final text_encoder_type: bert-base-uncased\n",
      "[OK] out/page_images/L2 - Market Ecosystem Journey/page-1.png: сохранено 2 регионов -> out/visual/grounded_regions/page-1/regions\n",
      "[OK] out/page_images/L3 - Platform Value Network Canvas/page-1.png: сохранено 2 регионов -> out/visual/grounded_regions/page-1/regions\n",
      "[OK] out/page_images/PIK - Expert Guide - Platform IT Architecture - Assessment - v01/page-1.png: сохранено 3 регионов -> out/visual/grounded_regions/page-1/regions\n",
      "[OK] out/page_images/PIK - Expert Guide - Platform IT Architecture - Playbook - v11/page-1.png: сохранено 2 регионов -> out/visual/grounded_regions/page-1/regions\n",
      "[OK] out/page_images/PIK - Expert Guide - Platform IT Architecture - Playbook - v11/page-10.png: сохранено 2 регионов -> out/visual/grounded_regions/page-10/regions\n",
      "[OK] out/page_images/PIK - Expert Guide - Platform IT Architecture - Playbook - v11/page-11.png: сохранен�� 4 регионов -> out/visual/grounded_regions/page-11/regions\n",
      "[OK] out/page_images/PIK - Expert Guide - Platform IT Architecture - Playbook - v11/page-12.png: сохранено 2 регионов -> out/visual/grounded_regions/page-12/regions\n",
      "[OK] out/page_images/PIK - Expert Guide - Platform IT Architecture - Playbook - v11/page-13.png: сохранено 3 регионов -> out/visual/grounded_regions/page-13/regions\n",
      "[OK] out/page_images/PIK - Expert Guide - Platform IT Architecture - Playbook - v11/page-14.png: сохранено 3 регионов -> out/visual/grounded_regions/page-14/regions\n",
      "[OK] out/page_images/PIK - Expert Guide - Platform IT Architecture - Playbook - v11/page-15.png: сохранено 2 регионов -> out/visual/grounded_regions/page-15/regions\n",
      "[OK] out/page_images/PIK - Expert Guide - Platform IT Architecture - Playbook - v11/page-16.png: сохранено 3 регионов -> out/visual/grounded_regions/page-16/regions\n",
      "[OK] out/page_images/PIK - Expert Guide - Platform IT Architecture - Playbook - v11/page-17.png: сохранено 2 регионов -> out/visual/grounded_regions/page-17/regions\n",
      "[OK] out/page_images/PIK - Expert Guide - Platform IT Architecture - Playbook - v11/page-18.png: сохранено 2 регионов -> out/visual/grounded_regions/page-18/regions\n",
      "[OK] out/page_images/PIK - Expert Guide - Platform IT Architecture - Playbook - v11/page-19.png: сохранено 3 регионов -> out/visual/grounded_regions/page-19/regions\n",
      "[OK] out/page_images/PIK - Expert Guide - Platform IT Architecture - Playbook - v11/page-2.png: сохранено 2 регионов -> out/visual/grounded_regions/page-2/regions\n",
      "[OK] out/page_images/PIK - Expert Guide - Platform IT Architecture - Playbook - v11/page-20.png: сохранено 2 регионов -> out/visual/grounded_regions/page-20/regions\n",
      "[OK] out/page_images/PIK - Expert Guide - Platform IT Architecture - Playbook - v11/page-21.png: сохранен�� 4 регионов -> out/visual/grounded_regions/page-21/regions\n",
      "[OK] out/page_images/PIK - Expert Guide - Platform IT Architecture - Playbook - v11/page-22.png: сохранено 2 регионов -> out/visual/grounded_regions/page-22/regions\n",
      "[OK] out/page_images/PIK - Expert Guide - Platform IT Architecture - Playbook - v11/page-23.png: сохранено 3 регионов -> out/visual/grounded_regions/page-23/regions\n",
      "[OK] out/page_images/PIK - Expert Guide - Platform IT Architecture - Playbook - v11/page-24.png: сохранено 2 регионов -> out/visual/grounded_regions/page-24/regions\n",
      "[OK] out/page_images/PIK - Expert Guide - Platform IT Architecture - Playbook - v11/page-25.png: сохранено 5 регионов -> out/visual/grounded_regions/page-25/regions\n",
      "[OK] out/page_images/PIK - Expert Guide - Platform IT Architecture - Playbook - v11/page-26.png: сохранено 3 регионов -> out/visual/grounded_regions/page-26/regions\n",
      "[OK] out/page_images/PIK - Expert Guide - Platform IT Architecture - Playbook - v11/page-27.png: сохранено 3 регионов -> out/visual/grounded_regions/page-27/regions\n",
      "[OK] out/page_images/PIK - Expert Guide - Platform IT Architecture - Playbook - v11/page-28.png: сохранено 4 регионов -> out/visual/grounded_regions/page-28/regions\n",
      "[OK] out/page_images/PIK - Expert Guide - Platform IT Architecture - Playbook - v11/page-29.png: сохранено 2 регионов -> out/visual/grounded_regions/page-29/regions\n",
      "[OK] out/page_images/PIK - Expert Guide - Platform IT Architecture - Playbook - v11/page-3.png: сохранено 2 регионов -> out/visual/grounded_regions/page-3/regions\n",
      "[OK] out/page_images/PIK - Expert Guide - Platform IT Architecture - Playbook - v11/page-30.png: сохранено 3 регионов -> out/visual/grounded_regions/page-30/regions\n",
      "[OK] out/page_images/PIK - Expert Guide - Platform IT Architecture - Playbook - v11/page-31.png: сохранен�� 3 регионов -> out/visual/grounded_regions/page-31/regions\n",
      "[OK] out/page_images/PIK - Expert Guide - Platform IT Architecture - Playbook - v11/page-32.png: сохранено 4 регионов -> out/visual/grounded_regions/page-32/regions\n",
      "[OK] out/page_images/PIK - Expert Guide - Platform IT Architecture - Playbook - v11/page-33.png: сохранено 3 регионов -> out/visual/grounded_regions/page-33/regions\n",
      "[OK] out/page_images/PIK - Expert Guide - Platform IT Architecture - Playbook - v11/page-34.png: сохранено 2 регионов -> out/visual/grounded_regions/page-34/regions\n",
      "[OK] out/page_images/PIK - Expert Guide - Platform IT Architecture - Playbook - v11/page-35.png: сохранено 5 регионов -> out/visual/grounded_regions/page-35/regions\n",
      "[OK] out/page_images/PIK - Expert Guide - Platform IT Architecture - Playbook - v11/page-36.png: сохранено 5 регионов -> out/visual/grounded_regions/page-36/regions\n",
      "[OK] out/page_images/PIK - Expert Guide - Platform IT Architecture - Playbook - v11/page-37.png: сохранено 5 регионов -> out/visual/grounded_regions/page-37/regions\n",
      "[OK] out/page_images/PIK - Expert Guide - Platform IT Architecture - Playbook - v11/page-38.png: сохранено 5 регионов -> out/visual/grounded_regions/page-38/regions\n",
      "[OK] out/page_images/PIK - Expert Guide - Platform IT Architecture - Playbook - v11/page-39.png: сохранено 5 регионов -> out/visual/grounded_regions/page-39/regions\n",
      "[OK] out/page_images/PIK - Expert Guide - Platform IT Architecture - Playbook - v11/page-4.png: сохранено 2 регионов -> out/visual/grounded_regions/page-4/regions\n",
      "[OK] out/page_images/PIK - Expert Guide - Platform IT Architecture - Playbook - v11/page-40.png: сохранено 3 регионов -> out/visual/grounded_regions/page-40/regions\n",
      "[OK] out/page_images/PIK - Expert Guide - Platform IT Architecture - Playbook - v11/page-41.png: сохранен�� 3 регионов -> out/visual/grounded_regions/page-41/regions\n",
      "[OK] out/page_images/PIK - Expert Guide - Platform IT Architecture - Playbook - v11/page-42.png: сохранено 2 регионов -> out/visual/grounded_regions/page-42/regions\n",
      "[OK] out/page_images/PIK - Expert Guide - Platform IT Architecture - Playbook - v11/page-43.png: сохранено 2 регионов -> out/visual/grounded_regions/page-43/regions\n",
      "[OK] out/page_images/PIK - Expert Guide - Platform IT Architecture - Playbook - v11/page-44.png: сохранено 2 регионов -> out/visual/grounded_regions/page-44/regions\n",
      "[OK] out/page_images/PIK - Expert Guide - Platform IT Architecture - Playbook - v11/page-45.png: сохранено 3 регионов -> out/visual/grounded_regions/page-45/regions\n",
      "[OK] out/page_images/PIK - Expert Guide - Platform IT Architecture - Playbook - v11/page-46.png: сохранено 4 регионов -> out/visual/grounded_regions/page-46/regions\n",
      "[OK] out/page_images/PIK - Expert Guide - Platform IT Architecture - Playbook - v11/page-47.png: сохранено 2 регионов -> out/visual/grounded_regions/page-47/regions\n"
     ]
    },
    {
     "name": "stdout",
     "output_type": "stream",
     "text": [
      "[OK] out/page_images/PIK - Expert Guide - Platform IT Architecture - Playbook - v11/page-48.png: сохранено 2 регионов -> out/visual/grounded_regions/page-48/regions\n",
      "[OK] out/page_images/PIK - Expert Guide - Platform IT Architecture - Playbook - v11/page-49.png: сохранено 3 регионов -> out/visual/grounded_regions/page-49/regions\n",
      "[OK] out/page_images/PIK - Expert Guide - Platform IT Architecture - Playbook - v11/page-5.png: сохранено 3 регионов -> out/visual/grounded_regions/page-5/regions\n",
      "[OK] out/page_images/PIK - Expert Guide - Platform IT Architecture - Playbook - v11/page-50.png: сохранено 5 регионов -> out/visual/grounded_regions/page-50/regions\n",
      "[OK] out/page_images/PIK - Expert Guide - Platform IT Architecture - Playbook - v11/page-6.png: сохранено 4 регионов -> out/visual/grounded_regions/page-6/regions\n",
      "[OK] out/page_images/PIK - Expert Guide - Platform IT Architecture - Playbook - v11/page-7.png: сохранено 3 регионов -> out/visual/grounded_regions/page-7/regions\n",
      "[OK] out/page_images/PIK - Expert Guide - Platform IT Architecture - Playbook - v11/page-8.png: сохранено 6 регионов -> out/visual/grounded_regions/page-8/regions\n",
      "[OK] out/page_images/PIK - Expert Guide - Platform IT Architecture - Playbook - v11/page-9.png: сохранено 2 регионов -> out/visual/grounded_regions/page-9/regions\n",
      "[OK] out/page_images/PIK - Platform IT Architecture Canvas - Table View - v01/page-1.png: сохранено 2 регионов -> out/visual/grounded_regions/page-1/regions\n",
      "[OK] out/page_images/PIK - Platform IT Architecture Canvases - v01/page-1.png: сохранено 2 регионов -> out/visual/grounded_regions/page-1/regions\n",
      "[OK] out/page_images/PIK 5-0 - Ecosystem Forces Scan - ENG/page-1.png: сохранено 4 регионов -> out/visual/grounded_regions/page-1/regions\n",
      "[OK] out/page_images/PIK 5-0 - Introduction - English/page-1.png: сохранено 3 регионов -> out/visual/grounded_regions/page-1/regions\n",
      "[OK] out/page_images/PIK 5-0 - Introduction - English/page-10.png: сохранено 3 регионов -> out/visual/grounded_regions/page-10/regions\n",
      "[OK] out/page_images/PIK 5-0 - Introduction - English/page-11.png: сохранено 5 регионов -> out/visual/grounded_regions/page-11/regions\n",
      "[OK] out/page_images/PIK 5-0 - Introduction - English/page-12.png: сохранено 2 регионов -> out/visual/grounded_regions/page-12/regions\n",
      "[OK] out/page_images/PIK 5-0 - Introduction - English/page-13.png: сохранено 2 регионов -> out/visual/grounded_regions/page-13/regions\n",
      "[OK] out/page_images/PIK 5-0 - Introduction - English/page-14.png: сохранено 2 регионов -> out/visual/grounded_regions/page-14/regions\n",
      "[OK] out/page_images/PIK 5-0 - Introduction - English/page-15.png: сохранено 2 регионов -> out/visual/grounded_regions/page-15/regions\n",
      "[OK] out/page_images/PIK 5-0 - Introduction - English/page-16.png: сохранено 2 регионов -> out/visual/grounded_regions/page-16/regions\n"
     ]
    },
    {
     "name": "stderr",
     "output_type": "stream",
     "text": [
      "FutureWarning: Importing from timm.models.layers is deprecated, please import via timm.layers\n",
      "UserWarning: torch.meshgrid: in an upcoming release, it will be required to pass the indexing argument. (Triggered internally at ../aten/src/ATen/native/TensorShape.cpp:3609.)\n"
     ]
    },
    {
     "name": "stderr",
     "output_type": "stream",
     "text": [
      "FutureWarning: You are using `torch.load` with `weights_only=False` (the current default value), which uses the default pickle module implicitly. It is possible to construct malicious pickle data which will execute arbitrary code during unpickling (See https://github.com/pytorch/pytorch/blob/main/SECURITY.md#untrusted-models for more details). In a future release, the default value for `weights_only` will be flipped to `True`. This limits the functions that could be executed during unpickling. Arbitrary objects will no longer be allowed to be loaded via this mode unless they are explicitly allowlisted by the user via `torch.serialization.add_safe_globals`. We recommend you start setting `weights_only=True` for any use case where you don't have full control of the loaded file. Please open an issue on GitHub for any issues related to this experimental feature.\n"
     ]
    },
    {
     "name": "stderr",
     "output_type": "stream",
     "text": [
      "FutureWarning: The `device` argument is deprecated and will be removed in v5 of Transformers.\n",
      "UserWarning: torch.utils.checkpoint: the use_reentrant parameter should be passed explicitly. In version 2.4 we will raise an exception if use_reentrant is not passed. use_reentrant=False is recommended, but if you need to preserve the current default behavior, you can pass use_reentrant=True. Refer to docs for more details on the differences between the two variants.\n",
      "UserWarning: None of the inputs have requires_grad=True. Gradients will be None\n"
     ]
    },
    {
     "name": "stderr",
     "output_type": "stream",
     "text": [
      "FutureWarning: `torch.cuda.amp.autocast(args...)` is deprecated. Please use `torch.amp.autocast('cuda', args...)` instead.\n"
     ]
    },
    {
     "name": "stdout",
     "output_type": "stream",
     "text": [
      "final text_encoder_type: bert-base-uncased\n",
      "[OK] out/page_images/PIK 5-0 - Introduction - English/page-17.png: сохранено 3 регионов -> out/visual/grounded_regions/page-17/regions\n",
      "[OK] out/page_images/PIK 5-0 - Introduction - English/page-18.png: сохранено 2 регионов -> out/visual/grounded_regions/page-18/regions\n",
      "[OK] out/page_images/PIK 5-0 - Introduction - English/page-19.png: сохранено 4 регионов -> out/visual/grounded_regions/page-19/regions\n",
      "[OK] out/page_images/PIK 5-0 - Introduction - English/page-2.png: сохранено 2 регионов -> out/visual/grounded_regions/page-2/regions\n",
      "[OK] out/page_images/PIK 5-0 - Introduction - English/page-20.png: сохранено 2 регионов -> out/visual/grounded_regions/page-20/regions\n",
      "[OK] out/page_images/PIK 5-0 - Introduction - English/page-21.png: сохранено 3 регионов -> out/visual/grounded_regions/page-21/regions\n",
      "[OK] out/page_images/PIK 5-0 - Introduction - English/page-22.png: сохранено 2 регионов -> out/visual/grounded_regions/page-22/regions\n",
      "[OK] out/page_images/PIK 5-0 - Introduction - English/page-23.png: сохранено 3 регионов -> out/visual/grounded_regions/page-23/regions\n",
      "[OK] out/page_images/PIK 5-0 - Introduction - English/page-24.png: сохранено 3 регионов -> out/visual/grounded_regions/page-24/regions\n",
      "[OK] out/page_images/PIK 5-0 - Introduction - English/page-25.png: сохранено 2 регионов -> out/visual/grounded_regions/page-25/regions\n",
      "[OK] out/page_images/PIK 5-0 - Introduction - English/page-26.png: сохранено 2 регионов -> out/visual/grounded_regions/page-26/regions\n",
      "[OK] out/page_images/PIK 5-0 - Introduction - English/page-27.png: сохранено 2 регионов -> out/visual/grounded_regions/page-27/regions\n",
      "[OK] out/page_images/PIK 5-0 - Introduction - English/page-28.png: сохранено 4 регионов -> out/visual/grounded_regions/page-28/regions\n",
      "[OK] out/page_images/PIK 5-0 - Introduction - English/page-29.png: сохранено 2 регионов -> out/visual/grounded_regions/page-29/regions\n",
      "[OK] out/page_images/PIK 5-0 - Introduction - English/page-3.png: сохранено 3 регионов -> out/visual/grounded_regions/page-3/regions\n",
      "[OK] out/page_images/PIK 5-0 - Introduction - English/page-30.png: сохранено 3 регионов -> out/visual/grounded_regions/page-30/regions\n",
      "[OK] out/page_images/PIK 5-0 - Introduction - English/page-31.png: сохранено 2 регионов -> out/visual/grounded_regions/page-31/regions\n",
      "[OK] out/page_images/PIK 5-0 - Introduction - English/page-32.png: сохранено 3 регионов -> out/visual/grounded_regions/page-32/regions\n",
      "[OK] out/page_images/PIK 5-0 - Introduction - English/page-33.png: сохранено 2 регионов -> out/visual/grounded_regions/page-33/regions\n",
      "[OK] out/page_images/PIK 5-0 - Introduction - English/page-34.png: сохранено 3 регионов -> out/visual/grounded_regions/page-34/regions\n",
      "[OK] out/page_images/PIK 5-0 - Introduction - English/page-35.png: сохранено 3 регионов -> out/visual/grounded_regions/page-35/regions\n",
      "[OK] out/page_images/PIK 5-0 - Introduction - English/page-36.png: сохранено 2 регионов -> out/visual/grounded_regions/page-36/regions\n",
      "[OK] out/page_images/PIK 5-0 - Introduction - English/page-37.png: сохранено 2 регионов -> out/visual/grounded_regions/page-37/regions\n",
      "[OK] out/page_images/PIK 5-0 - Introduction - English/page-38.png: сохранено 3 регионов -> out/visual/grounded_regions/page-38/regions\n",
      "[OK] out/page_images/PIK 5-0 - Introduction - English/page-39.png: сохранено 2 регионов -> out/visual/grounded_regions/page-39/regions\n",
      "[OK] out/page_images/PIK 5-0 - Introduction - English/page-4.png: сохранено 3 регионов -> out/visual/grounded_regions/page-4/regions\n",
      "[OK] out/page_images/PIK 5-0 - Introduction - English/page-40.png: сохранено 6 регионов -> out/visual/grounded_regions/page-40/regions\n",
      "[OK] out/page_images/PIK 5-0 - Introduction - English/page-41.png: сохранено 3 регионов -> out/visual/grounded_regions/page-41/regions\n",
      "[OK] out/page_images/PIK 5-0 - Introduction - English/page-42.png: сохранено 3 регионов -> out/visual/grounded_regions/page-42/regions\n",
      "[OK] out/page_images/PIK 5-0 - Introduction - English/page-43.png: сохранено 3 регионов -> out/visual/grounded_regions/page-43/regions\n",
      "[OK] out/page_images/PIK 5-0 - Introduction - English/page-44.png: сохранено 3 регионов -> out/visual/grounded_regions/page-44/regions\n",
      "[OK] out/page_images/PIK 5-0 - Introduction - English/page-45.png: сохранено 2 регионов -> out/visual/grounded_regions/page-45/regions\n",
      "[OK] out/page_images/PIK 5-0 - Introduction - English/page-46.png: сохранено 3 регио��ов -> out/visual/grounded_regions/page-46/regions\n",
      "[OK] out/page_images/PIK 5-0 - Introduction - English/page-47.png: сохранено 2 регионов -> out/visual/grounded_regions/page-47/regions\n",
      "[OK] out/page_images/PIK 5-0 - Introduction - English/page-48.png: сохранено 3 регионов -> out/visual/grounded_regions/page-48/regions\n",
      "[OK] out/page_images/PIK 5-0 - Introduction - English/page-49.png: сохранено 5 регионов -> out/visual/grounded_regions/page-49/regions\n",
      "[OK] out/page_images/PIK 5-0 - Introduction - English/page-5.png: сохранено 3 регионов -> out/visual/grounded_regions/page-5/regions\n",
      "[OK] out/page_images/PIK 5-0 - Introduction - English/page-6.png: сохранено 4 регионов -> out/visual/grounded_regions/page-6/regions\n",
      "[OK] out/page_images/PIK 5-0 - Introduction - English/page-7.png: сохранено 3 регионов -> out/visual/grounded_regions/page-7/regions\n",
      "[OK] out/page_images/PIK 5-0 - Introduction - English/page-8.png: сохранено 3 регионов -> out/visual/grounded_regions/page-8/regions\n",
      "[OK] out/page_images/PIK 5-0 - Introduction - English/page-9.png: сохранено 2 регионов -> out/visual/grounded_regions/page-9/regions\n",
      "[OK] out/page_images/PIK 5-0 - Longtail Discovery - ENG/page-1.png: сохранено 1 регионов -> out/visual/grounded_regions/page-1/regions\n",
      "[OK] out/page_images/PIK 5-0 - MVP - ENG/page-1.png: сохранено 2 регионов -> out/visual/grounded_regions/page-1/regions\n",
      "[OK] out/page_images/PIK 5-0 - Market Sizing - ENG/page-1.png: сохранено 3 регионов -> out/visual/grounded_regions/page-1/regions\n",
      "[OK] out/page_images/PIK 5-0 - NFX Reinforcement Engines - ENG/page-1.png: сохранено 3 регионов -> out/visual/grounded_regions/page-1/regions\n",
      "[OK] out/page_images/PIK 5-0 - Network Effects Stimulation - ENG/page-1.png: сохранено 2 регионов -> out/visual/grounded_regions/page-1/regions\n",
      "[OK] out/page_images/PIK 5-0 - Platform AARRR Funnel - ENG/page-1.png: сохранено 3 регионов -> out/visual/grounded_regions/page-1/regions\n",
      "[OK] out/page_images/PIK 5-0 - Platform Business Model - ENG/page-1.png: сохранено 2 регионов -> out/visual/grounded_regions/page-1/regions\n",
      "[OK] out/page_images/PIK 5-0 - Platform Crisis Response - ENG/page-1.png: сохранено 1 регионов -> out/visual/grounded_regions/page-1/regions\n",
      "[OK] out/page_images/PIK 5-0 - Platform Evolution - ENG/page-1.png: сохранено 4 регионов -> out/visual/grounded_regions/page-1/regions\n",
      "[OK] out/page_images/PIK 5-0 - Platform Experience - ENG/page-1.png: сохранено 4 регионов -> out/visual/grounded_regions/page-1/regions\n",
      "[OK] out/page_images/PIK 5-0 - Platform Monetization Canvas - ENG/page-1.png: сохранено 4 регионов -> out/visual/grounded_regions/page-1/regions\n",
      "[OK] out/page_images/PIK 5-0 - Platform Opportunity - ENG/page-1.png: сохранено 2 регионов -> out/visual/grounded_regions/page-1/regions\n"
     ]
    },
    {
     "name": "stdout",
     "output_type": "stream",
     "text": [
      "[OK] out/page_images/PIK 5-0 - Platform Stakeholder Persona - ENG/page-1.png: сохранено 3 регионов -> out/visual/grounded_regions/page-1/regions\n",
      "[OK] out/page_images/PIK 5-0 - Platform Team - ENG/page-1.png: сохранено 2 регионов -> out/visual/grounded_regions/page-1/regions\n",
      "[OK] out/page_images/PIK 5-0 - Platform USP - ENG/page-1.png: сохранено 4 регионов -> out/visual/grounded_regions/page-1/regions\n",
      "[OK] out/page_images/PIK 5-0 - Platform Value Network Canvas - ENG/page-1.png: сохранено 2 регионов -> out/visual/grounded_regions/page-1/regions\n",
      "[OK] out/page_images/PIK 5-0 - Problem-Prioritization Matrix Canvas - ENG/page-1.png: сохранено 1 регионов -> out/visual/grounded_regions/page-1/regions\n",
      "[OK] out/page_images/PIK 5-0 - Unfair Advantage - ENG/page-1.png: сохранено 2 регионов -> out/visual/grounded_regions/page-1/regions\n",
      "[OK] out/page_images/PIK 5-0 - User Behaviour - ENG/page-1.png: сохранено 1 регионов -> out/visual/grounded_regions/page-1/regions\n",
      "[OK] out/page_images/PIK 5-0 - Value Chain Scan - ENG/page-1.png: сохранено 2 регионов -> out/visual/grounded_regions/page-1/regions\n",
      "[OK] out/page_images/PIK 5-0 - Venture Governance - ENG/page-1.png: сохранено 2 регионов -> out/visual/grounded_regions/page-1/regions\n"
     ]
    },
    {
     "name": "stdout",
     "output_type": "stream",
     "text": [
      "Running: python scripts/grounded_sam_detect.py --images out/page_images/2023-06 - fastbreakOne - Expert Guide - Ecosystem Strategy  - English/page-1.png out/page_images/2023-06 - fastbreakOne - Expert Guide - Ecosystem Strategy  - English/page-10.png out/page_images/2023-06 - fastbreakOne - Expert Guide - Ecosystem Strategy  - English/page-11.png out/page_images/2023-06 - fastbreakOne - Expert Guide - Ecosystem Strategy  - English/page-12.png out/page_images/2023-06 - fastbreakOne - Expert Guide - Ecosystem Strategy  - English/page-13.png out/page_images/2023-06 - fastbreakOne - Expert Guide - Ecosystem Strategy  - English/page-14.png out/page_images/2023-06 - fastbreakOne - Expert Guide - Ecosystem Strategy  - English/page-15.png ... (+more)\n",
      "Running: python scripts/grounded_sam_detect.py --images out/page_images/L2 - Market Ecosystem Journey/page-1.png out/page_images/L3 - Platform Value Network Canvas/page-1.png out/page_images/PIK - Expert Guide - Platform IT Architecture - Assessment - v01/page-1.png out/page_images/PIK - Expert Guide - Platform IT Architecture - Playbook - v11/page-1.png out/page_images/PIK - Expert Guide - Platform IT Architecture - Playbook - v11/page-10.png out/page_images/PIK - Expert Guide - Platform IT Architecture - Playbook - v11/page-11.png out/page_images/PIK - Expert Guide - Platform IT Architecture - Playbook - v11/page-12.png ... (+more)\n",
      "Running: python scripts/grounded_sam_detect.py --images out/page_images/PIK 5-0 - Introduction - English/page-17.png out/page_images/PIK 5-0 - Introduction - English/page-18.png out/page_images/PIK 5-0 - Introduction - English/page-19.png out/page_images/PIK 5-0 - Introduction - English/page-2.png out/page_images/PIK 5-0 - Introduction - English/page-20.png out/page_images/PIK 5-0 - Introduction - English/page-21.png out/page_images/PIK 5-0 - Introduction - English/page-22.png ... (+more)\n"
     ]
    }
   ],
   "source": [
    "if DO_DETECT:\n",
    "    prompts = ['diagram','canvas','table','legend','node','arrow','textbox']\n",
    "    run(['python', 'scripts/batch_gdino_sam2.py', '--pages-root', 'out/page_images', '--outdir', OUT_DET, '--prompts', *prompts])\n",
    "else:\n",
    "    print('Skip detect (DO_DETECT=0)')\n"
   ]
  },
  {
   "cell_type": "markdown",
   "id": "9d4657a3",
   "metadata": {},
   "source": [
    "## 4) LLM-анализ регионов"
   ]
  },
  {
   "cell_type": "code",
   "execution_count": 6,
   "id": "7828024a",
   "metadata": {
    "execution": {
     "iopub.execute_input": "2025-09-18T20:34:04.003414Z",
     "iopub.status.busy": "2025-09-18T20:34:04.003309Z",
     "iopub.status.idle": "2025-09-18T20:52:57.658845Z",
     "shell.execute_reply": "2025-09-18T20:52:57.658592Z"
    }
   },
   "outputs": [
    {
     "name": "stdout",
     "output_type": "stream",
     "text": [
      "[run] python scripts/analyze_detected_regions.py --detected-dir out/visual/grounded_regions --all --outdir out/visual/grounded_regions --chat-model gpt-4o --skip-existing\n"
     ]
    },
    {
     "name": "stdout",
     "output_type": "stream",
     "text": [
      "Analyzed 4 detected regions in unit page-1 -> out/visual/grounded_regions/page-1/regions\n",
      "Analyzed 5 detected regions in unit page-10 -> out/visual/grounded_regions/page-10/regions\n",
      "Analyzed 5 detected regions in unit page-11 -> out/visual/grounded_regions/page-11/regions\n",
      "Analyzed 3 detected regions in unit page-12 -> out/visual/grounded_regions/page-12/regions\n",
      "Analyzed 3 detected regions in unit page-13 -> out/visual/grounded_regions/page-13/regions\n",
      "Analyzed 5 detected regions in unit page-14 -> out/visual/grounded_regions/page-14/regions\n",
      "Analyzed 3 detected regions in unit page-15 -> out/visual/grounded_regions/page-15/regions\n",
      "Analyzed 3 detected regions in unit page-16 -> out/visual/grounded_regions/page-16/regions\n",
      "Analyzed 5 detected regions in unit page-17 -> out/visual/grounded_regions/page-17/regions\n",
      "Analyzed 4 detected regions in unit page-18 -> out/visual/grounded_regions/page-18/regions\n",
      "Analyzed 4 detected regions in unit page-19 -> out/visual/grounded_regions/page-19/regions\n",
      "Analyzed 4 detected regions in unit page-2 -> out/visual/grounded_regions/page-2/regions\n",
      "Analyzed 2 detected regions in unit page-20 -> out/visual/grounded_regions/page-20/regions\n",
      "Analyzed 4 detected regions in unit page-21 -> out/visual/grounded_regions/page-21/regions\n",
      "Analyzed 5 detected regions in unit page-22 -> out/visual/grounded_regions/page-22/regions\n",
      "Analyzed 3 detected regions in unit page-23 -> out/visual/grounded_regions/page-23/regions\n",
      "Analyzed 3 detected regions in unit page-24 -> out/visual/grounded_regions/page-24/regions\n",
      "Analyzed 5 detected regions in unit page-25 -> out/visual/grounded_regions/page-25/regions\n",
      "Analyzed 3 detected regions in unit page-26 -> out/visual/grounded_regions/page-26/regions\n",
      "Analyzed 3 detected regions in unit page-27 -> out/visual/grounded_regions/page-27/regions\n",
      "Analyzed 4 detected regions in unit page-28 -> out/visual/grounded_regions/page-28/regions\n",
      "Analyzed 5 detected regions in unit page-29 -> out/visual/grounded_regions/page-29/regions\n",
      "Analyzed 4 detected regions in unit page-3 -> out/visual/grounded_regions/page-3/regions\n",
      "Analyzed 3 detected regions in unit page-30 -> out/visual/grounded_regions/page-30/regions\n",
      "Analyzed 3 detected regions in unit page-31 -> out/visual/grounded_regions/page-31/regions\n",
      "Analyzed 4 detected regions in unit page-32 -> out/visual/grounded_regions/page-32/regions\n",
      "Analyzed 5 detected regions in unit page-33 -> out/visual/grounded_regions/page-33/regions\n",
      "Analyzed 6 detected regions in unit page-34 -> out/visual/grounded_regions/page-34/regions\n",
      "Analyzed 5 detected regions in unit page-35 -> out/visual/grounded_regions/page-35/regions\n",
      "Analyzed 5 detected regions in unit page-36 -> out/visual/grounded_regions/page-36/regions\n",
      "Analyzed 5 detected regions in unit page-37 -> out/visual/grounded_regions/page-37/regions\n",
      "Analyzed 5 detected regions in unit page-38 -> out/visual/grounded_regions/page-38/regions\n",
      "Analyzed 5 detected regions in unit page-39 -> out/visual/grounded_regions/page-39/regions\n",
      "Analyzed 4 detected regions in unit page-4 -> out/visual/grounded_regions/page-4/regions\n",
      "Analyzed 6 detected regions in unit page-40 -> out/visual/grounded_regions/page-40/regions\n",
      "Analyzed 3 detected regions in unit page-41 -> out/visual/grounded_regions/page-41/regions\n",
      "Analyzed 2 detected regions in unit page-42 -> out/visual/grounded_regions/page-42/regions\n",
      "Analyzed 3 detected regions in unit page-43 -> out/visual/grounded_regions/page-43/regions\n",
      "Analyzed 3 detected regions in unit page-44 -> out/visual/grounded_regions/page-44/regions\n",
      "Analyzed 2 detected regions in unit page-45 -> out/visual/grounded_regions/page-45/regions\n",
      "Analyzed 5 detected regions in unit page-46 -> out/visual/grounded_regions/page-46/regions\n",
      "Analyzed 3 detected regions in unit page-47 -> out/visual/grounded_regions/page-47/regions\n",
      "Analyzed 4 detected regions in unit page-48 -> out/visual/grounded_regions/page-48/regions\n",
      "Analyzed 5 detected regions in unit page-49 -> out/visual/grounded_regions/page-49/regions\n",
      "Analyzed 4 detected regions in unit page-5 -> out/visual/grounded_regions/page-5/regions\n",
      "Analyzed 5 detected regions in unit page-50 -> out/visual/grounded_regions/page-50/regions\n",
      "Analyzed 3 detected regions in unit page-51 -> out/visual/grounded_regions/page-51/regions\n",
      "Analyzed 3 detected regions in unit page-52 -> out/visual/grounded_regions/page-52/regions\n",
      "Analyzed 2 detected regions in unit page-53 -> out/visual/grounded_regions/page-53/regions\n",
      "Analyzed 3 detected regions in unit page-54 -> out/visual/grounded_regions/page-54/regions\n",
      "Analyzed 2 detected regions in unit page-55 -> out/visual/grounded_regions/page-55/regions\n",
      "Analyzed 6 detected regions in unit page-56 -> out/visual/grounded_regions/page-56/regions\n",
      "Analyzed 3 detected regions in unit page-57 -> out/visual/grounded_regions/page-57/regions\n",
      "Analyzed 1 detected regions in unit page-58 -> out/visual/grounded_regions/page-58/regions\n",
      "Analyzed 2 detected regions in unit page-59 -> out/visual/grounded_regions/page-59/regions\n",
      "Analyzed 4 detected regions in unit page-6 -> out/visual/grounded_regions/page-6/regions\n",
      "Analyzed 2 detected regions in unit page-60 -> out/visual/grounded_regions/page-60/regions\n",
      "Analyzed 2 detected regions in unit page-61 -> out/visual/grounded_regions/page-61/regions\n",
      "Analyzed 2 detected regions in unit page-62 -> out/visual/grounded_regions/page-62/regions\n",
      "Analyzed 3 detected regions in unit page-7 -> out/visual/grounded_regions/page-7/regions\n",
      "Analyzed 6 detected regions in unit page-8 -> out/visual/grounded_regions/page-8/regions\n",
      "Analyzed 4 detected regions in unit page-9 -> out/visual/grounded_regions/page-9/regions\n"
     ]
    }
   ],
   "source": [
    "if DO_ANALYZE:\n",
    "    if not OPENAI_SET:\n",
    "        raise SystemExit('OPENAI_API_KEY is required for analysis')\n",
    "    run(['python', 'scripts/analyze_detected_regions.py', '--detected-dir', OUT_DET, '--all', '--outdir', OUT_DET, '--chat-model', CHAT_MODEL, '--skip-existing', '--profile', 'auto', '--synonyms', 'config/semantic_synonyms.yaml', '--weights', 'config/visual_objects_weights.yaml'])\n",
    "else:\n",
    "    print('Skip analyze (DO_ANALYZE=0)')\n"
   ]
  },
  {
   "cell_type": "markdown",
   "id": "1930ffc2",
   "metadata": {},
   "source": [
    "## 5) Ingest индекса + 6) Review/Eval"
   ]
  },
  {
   "cell_type": "code",
   "execution_count": 7,
   "id": "e9125b61",
   "metadata": {
    "execution": {
     "iopub.execute_input": "2025-09-18T20:52:57.659873Z",
     "iopub.status.busy": "2025-09-18T20:52:57.659781Z",
     "iopub.status.idle": "2025-09-18T20:53:35.025066Z",
     "shell.execute_reply": "2025-09-18T20:53:35.024710Z"
    }
   },
   "outputs": [
    {
     "name": "stdout",
     "output_type": "stream",
     "text": [
      "[run] python scripts/ingest_visual_artifacts.py --source-json /root/data/playbook.json --regions-dir out/visual/grounded_regions --out out/openai_embeddings.ndjson --model text-embedding-3-large\n"
     ]
    },
    {
     "name": "stdout",
     "output_type": "stream",
     "text": [
      "Ingested 1111 visual items into out/openai_embeddings.ndjson\n",
      "[run] python scripts/generate_visual_review.py --inline\n",
      "Wrote eval/visual_review.html\n",
      "[run] python scripts/eval_metrics.py --index out/openai_embeddings.ndjson --eval eval/queries.jsonl --prefer-visual\n"
     ]
    },
    {
     "name": "stdout",
     "output_type": "stream",
     "text": [
      "recall@1: 0.000\n",
      "recall@3: 0.000\n",
      "recall@5: 0.000\n",
      "ndcg@1: 0.000\n",
      "ndcg@3: 0.000\n",
      "ndcg@5: 0.000\n",
      "MRR: 0.010 (over 78 annotated queries)\n"
     ]
    }
   ],
   "source": [
    "if DO_INGEST:\n",
    "    run(['python', 'scripts/ingest_visual_artifacts.py', '--source-json', JSON_PATH, '--regions-dir', OUT_DET, '--out', INDEX_PATH, '--model', EMB_MODEL])\n",
    "else:\n",
    "    print('Skip ingest (DO_INGEST=0)')\n",
    "\n",
    "if DO_REVIEW or DO_EVAL:\n",
    "    pathlib.Path('eval').mkdir(exist_ok=True)\n",
    "\n",
    "if DO_REVIEW:\n",
    "    run(['python', 'scripts/generate_visual_review.py', '--inline'])\n",
    "else:\n",
    "    print('Skip review (DO_REVIEW=0)')\n",
    "\n",
    "if DO_EVAL:\n",
    "    run(['python', 'scripts/eval_metrics.py', '--index', INDEX_PATH, '--eval', 'eval/queries.jsonl', '--prefer-visual'])\n",
    "else:\n",
    "    print('Skip eval (DO_EVAL=0)')\n"
   ]
  }
 ],
 "metadata": {
  "kernelspec": {
   "display_name": "base",
   "language": "python",
   "name": "python3"
  },
  "language_info": {
   "codemirror_mode": {
    "name": "ipython",
    "version": 3
   },
   "file_extension": ".py",
   "mimetype": "text/x-python",
   "name": "python",
   "nbconvert_exporter": "python",
   "pygments_lexer": "ipython3",
   "version": "3.11.9"
  }
 },
 "nbformat": 4,
 "nbformat_minor": 5
}
