{
 "cells": [
  {
   "cell_type": "markdown",
   "metadata": {},
   "source": [
    "# GroundedDINO + SAM2 — Чистый пайплайн\n",
    "\n",
    "Минимальный ноутбук: рендер → детект (CV/GDINO+SAM2) → анализ → инжест → обзор → метрики."
   ]
  },
  {
   "cell_type": "code",
   "execution_count": 1,
   "metadata": {
    "tags": [
     "parameters"
    ]
   },
   "outputs": [],
   "source": [
    "# Конфиг\n",
    "MODEL_DIR = '/root/models'\n",
    "PDF_PATH  = '/root/data/playbook.pdf'\n",
    "JSON_PATH = '/root/data/playbook.json'\n",
    "PAGES     = [42, 45]\n",
    "OUT_PAGES = 'out/page_images/PIK - Expert Guide - Platform IT Architecture - Playbook - v11'\n",
    "OUT_DET   = 'out/visual/grounded_regions'\n",
    "USE_CV    = False  # Полная мощность: GroundedDINO+SAM2 (True = быстрый CV)\n",
    "CHAT_MODEL = 'gpt-4o'\n",
    "EMB_MODEL  = 'text-embedding-3-large'\n",
    "INDEX_PATH = 'out/openai_embeddings.ndjson'\n"
   ]
  },
  {
   "cell_type": "code",
   "execution_count": 2,
   "metadata": {},
   "outputs": [
    {
     "name": "stdout",
     "output_type": "stream",
     "text": [
      "OPENAI_API_KEY set: True\n",
      "MODEL_DIR exists: True\n"
     ]
    }
   ],
   "source": [
    "# Вспомогательные\n",
    "import subprocess, os, shlex\n",
    "from pathlib import Path\n",
    "\n",
    "def sh(cmd):\n",
    "    print('→', cmd)\n",
    "    res = subprocess.run(cmd, shell=True)\n",
    "    if res.returncode != 0:\n",
    "        raise RuntimeError('Command failed')\n",
    "print('OPENAI_API_KEY set:', bool(os.getenv('OPENAI_API_KEY')))\n",
    "print('MODEL_DIR exists:', Path(MODEL_DIR).exists())\n"
   ]
  },
  {
   "cell_type": "code",
   "execution_count": 7,
   "metadata": {},
   "outputs": [
    {
     "name": "stdout",
     "output_type": "stream",
     "text": [
      "→ python ../scripts/render_pages.py --pdf /root/data/playbook.pdf --pages 42 45 --outdir 'out/page_images/PIK - Expert Guide - Platform IT Architecture - Playbook - v11' --dpi 150\n"
     ]
    },
    {
     "name": "stdout",
     "output_type": "stream",
     "text": [
      "Rendered playbook.pdf page 42 -> out/page_images/PIK - Expert Guide - Platform IT Architecture - Playbook - v11/page-42.png\n",
      "Rendered playbook.pdf page 45 -> out/page_images/PIK - Expert Guide - Platform IT Architecture - Playbook - v11/page-45.png\n"
     ]
    }
   ],
   "source": [
    "# Рендер страниц\n",
    "import shlex\n",
    "Path(OUT_PAGES).mkdir(parents=True, exist_ok=True)\n",
    "pages = ' '.join(str(p) for p in PAGES)\n",
    "sh(f'python ../scripts/render_pages.py --pdf {shlex.quote(PDF_PATH)} --pages {pages} --outdir {shlex.quote(OUT_PAGES)} --dpi 150')\n"
   ]
  },
  {
   "cell_type": "code",
   "execution_count": 9,
   "metadata": {},
   "outputs": [
    {
     "name": "stdout",
     "output_type": "stream",
     "text": [
      "→ python ../scripts/cv_segment.py --images-dir 'out/page_images/PIK - Expert Guide - Platform IT Architecture - Playbook - v11' --pages 42 45 --outdir out/visual/cv_regions\n",
      "CV segmented page 42 -> 7 regions\n",
      "CV segmented page 45 -> 11 regions\n"
     ]
    }
   ],
   "source": [
    "# Детекция регионов\n",
    "imgs = [str(Path(OUT_PAGES)/f'page-{p}.png') for p in PAGES]\n",
    "if USE_CV:\n",
    "    Path('out/visual/cv_regions').mkdir(parents=True, exist_ok=True)\n",
    "    sh(f'python ../scripts/cv_segment.py --images-dir {shlex.quote(OUT_PAGES)} --pages {pages} --outdir out/visual/cv_regions')\n",
    "    OUT_DET = 'out/visual/cv_regions'\n",
    "else:\n",
    "    Path(OUT_DET).mkdir(parents=True, exist_ok=True)\n",
    "    quoted = ' '.join(shlex.quote(p) for p in imgs)\n",
    "    sh(f'python ../scripts/grounded_sam_detect.py --images {quoted} --outdir {shlex.quote(OUT_DET)} --prompts diagram canvas table legend node arrow')\n"
   ]
  },
  {
   "cell_type": "code",
   "execution_count": 11,
   "metadata": {},
   "outputs": [
    {
     "name": "stdout",
     "output_type": "stream",
     "text": [
      "→ python ../scripts/analyze_detected_regions.py --detected-dir out/visual/cv_regions --all --outdir out/visual/cv_regions --chat-model gpt-4o --skip-existing\n"
     ]
    },
    {
     "name": "stdout",
     "output_type": "stream",
     "text": [
      "Analyzed 7 detected regions in unit 42 -> out/visual/cv_regions/42/regions\n",
      "Analyzed 11 detected regions in unit 45 -> out/visual/cv_regions/45/regions\n"
     ]
    }
   ],
   "source": [
    "# Анализ регионов LLM\n",
    "sh(f'python ../scripts/analyze_detected_regions.py --detected-dir {shlex.quote(OUT_DET)} --all --outdir {shlex.quote(OUT_DET)} --chat-model {CHAT_MODEL} --skip-existing')\n"
   ]
  },
  {
   "cell_type": "code",
   "execution_count": 14,
   "metadata": {},
   "outputs": [
    {
     "name": "stdout",
     "output_type": "stream",
     "text": [
      "→ python ../scripts/ingest_visual_artifacts.py --source-json /root/data/playbook.json --regions-dir out/visual/cv_regions --out out/openai_embeddings.ndjson --model text-embedding-3-large\n"
     ]
    },
    {
     "name": "stdout",
     "output_type": "stream",
     "text": [
      "Ingested 28 visual items into out/openai_embeddings.ndjson\n",
      "→ python ../scripts/generate_visual_review.py --inline --out ../eval/visual_review.html\n",
      "Wrote ../eval/visual_review.html\n"
     ]
    }
   ],
   "source": [
    "# Инжест и обзор\n",
    "sh(f'python ../scripts/ingest_visual_artifacts.py --source-json {shlex.quote(JSON_PATH)} --regions-dir {shlex.quote(OUT_DET)} --out {shlex.quote(INDEX_PATH)} --model {EMB_MODEL}')\n",
    "sh('python ../scripts/generate_visual_review.py --inline --out ../eval/visual_review.html')\n"
   ]
  },
  {
   "cell_type": "code",
   "execution_count": 16,
   "metadata": {},
   "outputs": [
    {
     "name": "stdout",
     "output_type": "stream",
     "text": [
      "→ python ../scripts/eval_metrics.py --index out/openai_embeddings.ndjson --eval ../eval/queries.jsonl --prefer-visual\n"
     ]
    },
    {
     "name": "stdout",
     "output_type": "stream",
     "text": [
      "recall@1: 0.000\n",
      "recall@3: 0.013\n",
      "recall@5: 0.038\n",
      "ndcg@1: 0.000\n",
      "ndcg@3: 0.004\n",
      "ndcg@5: 0.009\n",
      "MRR: 0.035 (over 78 annotated queries)\n"
     ]
    }
   ],
   "source": [
    "# Метрики (опционально)\n",
    "sh(f'python ../scripts/eval_metrics.py --index {shlex.quote(INDEX_PATH)} --eval {shlex.quote(\"../eval/queries.jsonl\")} --prefer-visual')\n"
   ]
  }
 ],
 "metadata": {
  "kernelspec": {
   "display_name": "base",
   "language": "python",
   "name": "python3"
  },
  "language_info": {
   "codemirror_mode": {
    "name": "ipython",
    "version": 3
   },
   "file_extension": ".py",
   "mimetype": "text/x-python",
   "name": "python",
   "nbconvert_exporter": "python",
   "pygments_lexer": "ipython3",
   "version": "3.11.9"
  }
 },
 "nbformat": 4,
 "nbformat_minor": 5
}
