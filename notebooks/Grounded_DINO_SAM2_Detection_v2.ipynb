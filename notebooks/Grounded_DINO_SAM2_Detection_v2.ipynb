{
 "cells": [
  {
   "cell_type": "markdown",
   "metadata": {},
   "source": [
    "# GroundedDINO + SAM2 — Чистый пайплайн",
    "\n",
    "Минимальный ноутбук: рендер → детект (CV/GDINO+SAM2) → анализ → инжест → обзор → метрики."
   ]
  },
  {
   "cell_type": "code",
   "execution_count": null,
   "metadata": {"tags": ["parameters"]},
   "outputs": [],
   "source": [
    "# Конфиг\n",
    "MODEL_DIR = '/root/models'\n",
    "PDF_PATH  = '/root/data/playbook.pdf'\n",
    "JSON_PATH = '/root/data/playbook.json'\n",
    "PAGES     = [42, 45]\n",
    "OUT_PAGES = 'out/page_images/PIK - Expert Guide - Platform IT Architecture - Playbook - v11'\n",
    "OUT_DET   = 'out/visual/grounded_regions'\n",
    "USE_CV    = True  # False → GroundedDINO+SAM2\n",
    "CHAT_MODEL = 'gpt-4o'\n",
    "EMB_MODEL  = 'text-embedding-3-large'\n",
    "INDEX_PATH = 'out/openai_embeddings.ndjson'\n"
   ]
  },
  {
   "cell_type": "code",
   "execution_count": null,
   "metadata": {},
   "outputs": [],
   "source": [
    "# Вспомогательные\n",
    "import subprocess, os\n",
    "from pathlib import Path\n",
    "\n",
    "def sh(cmd):\n",
    "    print('→', cmd)\n",
    "    res = subprocess.run(cmd, shell=True)\n",
    "    if res.returncode != 0:\n",
    "        raise RuntimeError('Command failed')\n",
    "print('OPENAI_API_KEY set:', bool(os.getenv('OPENAI_API_KEY')))\n",
    "print('MODEL_DIR exists:', Path(MODEL_DIR).exists())\n"
   ]
  },
  {
   "cell_type": "code",
   "execution_count": null,
   "metadata": {},
   "outputs": [],
   "source": [
    "# Рендер страниц\n",
    "Path(OUT_PAGES).mkdir(parents=True, exist_ok=True)\n",
    "pages = ' '.join(str(p) for p in PAGES)\n",
    "sh(f'python scripts/render_pages.py --pdf "{PDF_PATH}" --pages {pages} --outdir "{OUT_PAGES}" --dpi 150')\n"
   ]
  },
  {
   "cell_type": "code",
   "execution_count": null,
   "metadata": {},
   "outputs": [],
   "source": [
    "# Детекция регионов\n",
    "imgs = [str(Path(OUT_PAGES)/f'page-{p}.png') for p in PAGES]\n",
    "if USE_CV:\n",
    "    Path('out/visual/cv_regions').mkdir(parents=True, exist_ok=True)\n",
    "    sh(f'python scripts/cv_segment.py --images-dir "{OUT_PAGES}" --pages {pages} --outdir out/visual/cv_regions')\n",
    "    OUT_DET = 'out/visual/cv_regions'\n",
    "else:\n",
    "    Path(OUT_DET).mkdir(parents=True, exist_ok=True)\n",
    "    quoted = ' '.join('"'+p+'"' for p in imgs)\n",
    "    sh(f'python scripts/grounded_sam_detect.py --images {quoted} --outdir {OUT_DET} --prompts diagram canvas table legend node arrow')\n"
   ]
  },
  {
   "cell_type": "code",
   "execution_count": null,
   "metadata": {},
   "outputs": [],
   "source": [
    "# Анализ регионов LLM\n",
    "sh(f'python scripts/analyze_detected_regions.py --detected-dir {OUT_DET} --all --outdir {OUT_DET} --chat-model {CHAT_MODEL} --skip-existing')\n"
   ]
  },
  {
   "cell_type": "code",
   "execution_count": null,
   "metadata": {},
   "outputs": [],
   "source": [
    "# Инжест и обзор\n",
    "sh(f'python scripts/ingest_visual_artifacts.py --source-json "{JSON_PATH}" --regions-dir {OUT_DET} --out {INDEX_PATH} --model {EMB_MODEL}')\n",
    "sh('python scripts/generate_visual_review.py --inline')\n"
   ]
  },
  {
   "cell_type": "code",
   "execution_count": null,
   "metadata": {},
   "outputs": [],
   "source": [
    "# Метрики (опционально)\n",
    "sh(f'python scripts/eval_metrics.py --index {INDEX_PATH} --eval eval/queries.jsonl --prefer-visual')\n"
   ]
  }
 ],
 "metadata": {
  "kernelspec": {
   "display_name": "Python 3 (ipykernel)",
   "language": "python",
   "name": "python3"
  },
  "language_info": {
   "name": "python",
   "pygments_lexer": "ipython3",
   "version": "3"
  }
 },
 "nbformat": 4,
 "nbformat_minor": 5
}
