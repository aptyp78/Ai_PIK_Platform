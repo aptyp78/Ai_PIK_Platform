{
 "cells": [
  {
   "cell_type": "markdown",
   "metadata": {},
   "source": [
    "# IPMK Orchestrator v3 (VAST)\n",
    "\n",
    "Интеллектуальный парсинг методологического знания (IPMK).\n",
    "\n",
    "Этапы: Sync (GCS→локально) → Render (300 dpi) → GroundedDINO+SAM2 → Analyze (LLM) → Ingest (индекс) → Review/Eval.\n",
    "\n",
    "Запускать в удалённом окне VSCode (SSH: vast-4090). Перед запуском: `. ./.env` (или используйте scripts/vast_run.sh)."
   ]
  },
  {
   "cell_type": "code",
   "execution_count": null,
   "metadata": {
    "tags": ["parameters"]
   },
   "outputs": [],
   "source": [
    "# Опциональная подгрузка .env (без внешних пакетов)\n",
    "import os, shlex, pathlib\n",
    "def load_env_file(path='.env'):\n",
    "    p = pathlib.Path(path)\n",
    "    if not p.exists():\n",
    "        return\n",
    "    for line in p.read_text(encoding='utf-8').splitlines():\n",
    "        line = line.strip()\n",
    "        if not line or line.startswith('#') or '=' not in line:\n",
    "            continue\n",
    "        k, v = line.split('=', 1)\n",
    "        if v and ((v[0]==v[-1]==\"'\") or (v[0]==v[-1]==\'\"\')):\n",
    "            v = v[1:-1]\n",
    "        os.environ.setdefault(k, v)\n",
    "\n",
    "# Раскомментируйте для явной загрузки .env (обычно .env уже подгружается в окружение)\n",
    "# load_env_file()\n",
    "\n",
    "MODEL_DIR = os.getenv('MODEL_DIR', '/root/models')\n",
    "DATA_DIR  = os.getenv('DATA_DIR',  '/root/data')\n",
    "# Источники\n",
    "PLAYBOOKS_SRC = os.getenv('PLAYBOOKS_SRC', 'gs://pik_source_bucket/playbooks')\n",
    "FRAMES_SRC    = os.getenv('FRAMES_SRC',    'gs://pik_source_bucket/frames')\n",
    "PLAYBOOKS_DST = os.getenv('PLAYBOOKS_DST', '/root/data/playbooks')\n",
    "FRAMES_DST    = os.getenv('FRAMES_DST',    '/root/data/frames')\n",
    "\n",
    "# Входы для текущего прогонки/интеграции (если нужен один файл)\n",
    "PDF_PATH  = os.getenv('PDF_PATH',  '/root/data/playbook.pdf')\n",
    "JSON_PATH = os.getenv('JSON_PATH', '/root/data/playbook.json')\n",
    "\n",
    "# Артефакты\n",
    "OUT_PAGES = os.getenv('OUT_PAGES', 'out/page_images/PIK - Expert Guide - Platform IT Architecture - Playbook - v11')\n",
    "OUT_DET   = os.getenv('OUT_DET',   'out/visual/grounded_regions')\n",
    "INDEX_PATH = os.getenv('INDEX_PATH', 'out/openai_embeddings.ndjson')\n",
    "\n",
    "CHAT_MODEL = os.getenv('CHAT_MODEL', 'gpt-4o')\n",
    "EMB_MODEL  = os.getenv('EMB_MODEL',  'text-embedding-3-large')\n",
    "OPENAI_SET = bool(os.getenv('OPENAI_API_KEY'))\n",
    "\n",
    "# Тогглы этапов\n",
    "DO_SYNC   = os.getenv('IPMK_DO_SYNC',   '1') == '1'\n",
    "DO_RENDER = os.getenv('IPMK_DO_RENDER', '1') == '1'\n",
    "DO_DETECT = os.getenv('IPMK_DO_DETECT', '1') == '1'\n",
    "DO_ANALYZE= os.getenv('IPMK_DO_ANALYZE','1') == '1'\n",
    "DO_INGEST = os.getenv('IPMK_DO_INGEST', '1') == '1'\n",
    "DO_REVIEW = os.getenv('IPMK_DO_REVIEW', '1') == '1'\n",
    "DO_EVAL   = os.getenv('IPMK_DO_EVAL',   '1') == '1'\n",
    "\n",
    "print('OPENAI set?', OPENAI_SET)\n",
    "print('OUT_PAGES =', OUT_PAGES)\n",
    "print('OUT_DET   =', OUT_DET)\n",
    "print('INDEX_PATH=', INDEX_PATH)\n"
   ]
  },
  {
   "cell_type": "code",
   "execution_count": null,
   "metadata": {},
   "outputs": [],
   "source": [
    "# Вспомогательные функции запуска\n",
    "import subprocess, shlex\n",
    "from pathlib import Path\n",
    "\n",
    "def run(cmd: list[str]):\n",
    "    print('[run]', ' '.join(shlex.quote(x) for x in cmd))\n",
    "    subprocess.run(cmd, check=True)\n",
    "\n",
    "Path('out').mkdir(exist_ok=True)\n",
    "Path(OUT_PAGES).parent.mkdir(parents=True, exist_ok=True)\n",
    "Path(OUT_DET).mkdir(parents=True, exist_ok=True)\n"
   ]
  },
  {
   "cell_type": "markdown",
   "metadata": {},
   "source": [
    "## 1) Sync источников из GCS (playbooks, frames)"
   ]
  },
  {
   "cell_type": "code",
   "execution_count": null,
   "metadata": {},
   "outputs": [],
   "source": [
    "if DO_SYNC:\n",
    "    try:\n",
    "        run(['python', 'scripts/batch_sync_gcs.py', '--playbooks-src', PLAYBOOKS_SRC, '--frames-src', FRAMES_SRC, '--playbooks-dst', PLAYBOOKS_DST, '--frames-dst', FRAMES_DST])\n",
    "    except FileNotFoundError:\n",
    "        print('gsutil/gcloud not installed; skip sync')\n",
    "else:\n",
    "    print('Skip sync (DO_SYNC=0)')\n"
   ]
  },
  {
   "cell_type": "markdown",
   "metadata": {},
   "source": [
    "## 2) Render всех PDF в 300 dpi"
   ]
  },
  {
   "cell_type": "code",
   "execution_count": null,
   "metadata": {},
   "outputs": [],
   "source": [
    "if DO_RENDER:\n",
    "    run(['python', 'scripts/batch_render.py', '--src', PLAYBOOKS_DST, FRAMES_DST, '--out-root', 'out/page_images', '--dpi', '300'])\n",
    "else:\n",
    "    print('Skip render (DO_RENDER=0)')\n"
   ]
  },
  {
   "cell_type": "markdown",
   "metadata": {},
   "source": [
    "## 3) GroundedDINO + SAM2 на всех PNG"
   ]
  },
  {
   "cell_type": "code",
   "execution_count": null,
   "metadata": {},
   "outputs": [],
   "source": [
    "if DO_DETECT:\n",
    "    prompts = ['diagram','canvas','table','legend','node','arrow']\n",
    "    run(['python', 'scripts/batch_gdino_sam2.py', '--pages-root', 'out/page_images', '--outdir', OUT_DET, '--prompts', *prompts])\n",
    "else:\n",
    "    print('Skip detect (DO_DETECT=0)')\n"
   ]
  },
  {
   "cell_type": "markdown",
   "metadata": {},
   "source": [
    "## 4) LLM-анализ регионов"
   ]
  },
  {
   "cell_type": "code",
   "execution_count": null,
   "metadata": {},
   "outputs": [],
   "source": [
    "if DO_ANALYZE:\n",
    "    if not OPENAI_SET:\n",
    "        raise SystemExit('OPENAI_API_KEY is required for analysis')\n",
    "    run(['python', 'scripts/analyze_detected_regions.py', '--detected-dir', OUT_DET, '--all', '--outdir', OUT_DET, '--chat-model', CHAT_MODEL, '--skip-existing'])\n",
    "else:\n",
    "    print('Skip analyze (DO_ANALYZE=0)')\n"
   ]
  },
  {
   "cell_type": "markdown",
   "metadata": {},
   "source": [
    "## 5) Ingest индекса + 6) Review/Eval"
   ]
  },
  {
   "cell_type": "code",
   "execution_count": null,
   "metadata": {},
   "outputs": [],
   "source": [
    "if DO_INGEST:\n",
    "    run(['python', 'scripts/ingest_visual_artifacts.py', '--source-json', JSON_PATH, '--regions-dir', OUT_DET, '--out', INDEX_PATH, '--model', EMB_MODEL])\n",
    "else:\n",
    "    print('Skip ingest (DO_INGEST=0)')\n",
    "\n",
    "if DO_REVIEW:\n",
    "    run(['python', 'scripts/generate_visual_review.py', '--inline'])\n",
    "else:\n",
    "    print('Skip review (DO_REVIEW=0)')\n",
    "\n",
    "if DO_EVAL:\n",
    "    run(['python', 'scripts/eval_metrics.py', '--index', INDEX_PATH, '--eval', 'eval/queries.jsonl', '--prefer-visual'])\n",
    "else:\n",
    "    print('Skip eval (DO_EVAL=0)')\n"
   ]
  }
 ],
 "metadata": {
  "kernelspec": {
   "display_name": "Python 3",
   "language": "python",
   "name": "python3"
  },
  "language_info": {
   "name": "python",
   "version": "3.11"
  }
 },
 "nbformat": 4,
 "nbformat_minor": 5
}

